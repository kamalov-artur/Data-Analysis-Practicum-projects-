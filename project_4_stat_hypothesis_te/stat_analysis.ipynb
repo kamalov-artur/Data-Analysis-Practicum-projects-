{
 "cells": [
  {
   "cell_type": "markdown",
   "id": "7e9dac5e",
   "metadata": {},
   "source": [
    "<div style=\"border:solid green 3px; padding: 20px\">\n",
    "\t\t\t\t\t\t\t\t\t\t\t\t\t\t\t\t\t\t\t\t\t\n",
    "<b>Привет!</b>\n",
    "\t\t\t\t\t\t\t\t\t\t\t\t\t\t\t\t\t\t\t\t\t\n",
    "Меня зовут Сороколетов Илья и я буду проверять твой проект. \n",
    "\t\t\t\t\t\t\t\t\t\t\t\t\t\t\t\t\t\t\t\t\t\n",
    "Предлагаю общаться на «**ты**», но если тебе будет комфортнее общаться на «**вы**», то сообщи об этом в комментариях)\n",
    "\t\t\t\t\t\t\t\t\t\t\t\t\t\t\t\t\t\t\t\t\t\n",
    "\t\t\t\t\t\t\t\t\t\t\t\t\t\t\t\t\t\t\t\t\t\n",
    "Для твоего удобства, я буду выделять свои комментарии следующим образом:\n",
    "\t\t\t\t\t\t\t\t\t\t\t\t\t\t\t\t\t\t\t\t\t\n",
    "<div class=\"alert alert-danger\">\n",
    "<b>❌ Комментарий ревьюера v1:</b> Самые важные замечания. Они указывают на ключевые моменты, которые влияют на конечный результат проекта. </div>\n",
    "\t\t\t\t\t\t\t\t\t\t\t\t\t\t\t\t\t\t\t\t\t\n",
    "<div class=\"alert alert-warning\">\n",
    "<b>⚠️ Комментарий ревьюера v1:</b> Советы или замечания, которые помогут сделать твою работу лучше, но необязательны к выполнению.\n",
    "\t\t\t\t\t\t\t\t\t\t\t\t\t\t\t\t\t\t\t\t\t\n",
    "</div>\n",
    "\t\t\t\t\t\t\t\t\t\t\t\t\t\t\t\t\t\t\t\t\t\n",
    "<div class=\"alert alert-success\">\n",
    "<b>✔️ Комментарий ревьюера v1:</b> Так я выделяю все остальные комментарии.</div>\n",
    "\t\t\t\t\t\t\t\t\t\t\t\t\t\t\t\t\t\t\t\t\t\n",
    "\t\t\t\t\t\t\t\t\t\t\t\t\t\t\t\t\t\t\t\t\t\n",
    "Пометками <b>v1-v2-v3-...</b> я буду отмечать версию проверки. Так ты сможешь быстро найти мои новые комментарии.\n",
    "\t\t\t\t\t\t\t\t\t\t\t\t\t\t\t\t\t\t\t\t\t\n",
    "Давай работать над проектом в диалоге: если ты что-то меняешь в проекте по моим рекомендациям — пиши об этом. Выбери для своих комментариев какой-то заметный цвет, так мне будет легче отследить изменения, например вот так:\n",
    "\t\t\t\t\t\t\t\t\t\t\t\t\t\t\t\t\t\t\t\t\t    \n",
    "<div class=\"alert alert-info\">\n",
    "<b>Комментарий студента:</b>\n",
    "<br>\n",
    "</div>\n",
    "\t\t\t\t\t\t\t\t\t\t\t\t\t\t\t\t\t\t\t\t\t\n",
    "<b>Пожалуйста, не перемещай, не изменяй и не удаляй мои комментарии.</b> Если ты оставляешь свои комментарии, то делай это под моими, чтобы сообщения были расположены в хронологическом порядке. Всё это поможет выполнить повторную проверку твоего проекта быстрее. \n",
    "\t\t\t\t\t\t\t\t\t\t\t\t\t\t\t\t\t\t\t\t\t\n",
    "Перед отправкой работы я рекомендую нажимать Kernel -> Restart & Run All. Это перезапустит ядро и по очереди выполнит все ячейки. Так ты сможешь проверить, что всё работает корректно. Кнопка Kernel находится в панели сверху\n",
    "\t\t\t\t\t\t\t\t\t\t\t\t\t\t\t\t\t\t\t\t\t\n",
    "Обязательно задавай вопросы если они возникнут, а я перехожу к проверке)\n",
    "\t\t\t\t\t\t\t\t\t\t\t\t\t\t\t\t\t\t\t\t\t\n",
    "P.S. На всякий случай, я оставлю пустой шаблон для твоих комментариев ниже. Кликни два раза на мой комментарий, скопируй последние четыре строчки кода и вставляй их в пустую ячейку там, где ты хочешь оставить комментарий. Не забудь только перед этим сменить тип ячейки на Markdown. Быстро это можно сделать так: кликнуть на ячейку - нажать ESC - нажать M. \n",
    "\t\t\t\t\t\t\t\t\t\t\t\t\t\t\t\t\t\t\t\t\t    \n",
    "\t\t\t\t\t\t\t\t\t\t\t\t\t\t\t\t\t\t\t\t\t    \n",
    "<div class=\"alert alert-info\">\n",
    "<b>Комментарий студента:</b>\n",
    "<br>Удали этот текст и вместо него напиши свой комментарий 🙂\n",
    "</div>"
   ]
  },
  {
   "cell_type": "markdown",
   "id": "2ea35794",
   "metadata": {},
   "source": [
    "<div class=\"alert alert-danger\">\n",
    "<b>❌ Комментарий ревьюера:</b> \n",
    "<br>Перед отправкой проекта обязательно перезапускай ядро через Kernel -> Restart & Run All и проверяй, чтобы все ячейки отработали без ошибок. 17 ячейка сейчас падает с ошибкой. Поправь, пожалуйста, чтобы я смог проверить твой проект\n",
    "</div>\n"
   ]
  },
  {
   "cell_type": "markdown",
   "id": "702d3245",
   "metadata": {},
   "source": [
    "<div class=\"alert alert-info\">\n",
    "<b>Комментарий студента:</b>\n",
    "<br>Привет, Илья. Я перезапускал ядро в коллабе перед отправкой ноутбука. Но сейчас обнаружил, что в юпитере reset_index() присваивает другие названия столбцам датафрейма. Всё исправил, работает.\n",
    "</div>"
   ]
  },
  {
   "cell_type": "markdown",
   "id": "fe648919",
   "metadata": {},
   "source": [
    "<div class=\"alert alert-success\">\n",
    "<b>✔️ Комментарий ревьюера v1:</b> \n",
    "<br>Теперь всё работает) Перехожу к проверке!\n",
    "</div>"
   ]
  },
  {
   "cell_type": "markdown",
   "id": "73ee57dd",
   "metadata": {},
   "source": [
    "<div class=\"alert alert-danger\">\n",
    "<b>❌ Комментарий ревьюера v1:</b> \n",
    "<br>Важно оставлять перед проектом краткое описание задачи. Это поможет тебе быстро вспомнить о чем проект, если спустя время ты решишь к нему вернуться)\n",
    "</div>"
   ]
  },
  {
   "cell_type": "markdown",
   "id": "15eec50b",
   "metadata": {},
   "source": [
    "**Продукт:** сервис аренды самокатов. Чтобы совершать поездки по городу, пользователи сервиса пользуются мобильным приложением. \n",
    "\n",
    "Варианты использования приложения\n",
    "- Без подписки \n",
    "- С подпиской Ultra\n",
    "\n",
    "**Выборка:** данные о некоторых пользователях из нескольких городов, а также об их поездках. \n",
    "\n",
    "**Задачи:** EDA и проверка гипотез\n",
    "\n",
    "**Результаты:**\n",
    "- Проведена предобработка данных\n",
    "- Проведен сравнительный анализ общей информации о пользователях и их поездках\n",
    "- Сформулированы гипотезы и проведены статистические тесты"
   ]
  },
  {
   "cell_type": "markdown",
   "id": "3d1fc5e6",
   "metadata": {},
   "source": [
    "<div class=\"alert alert-info\">\n",
    "<b>Комментарий студента:</b>\n",
    "<br>Добавил описание задачи\n",
    "</div>"
   ]
  },
  {
   "cell_type": "markdown",
   "id": "0c8ad6aa",
   "metadata": {},
   "source": [
    "<div class=\"alert alert-success\">\n",
    "<b>✔️ Комментарий ревьюера v2:</b>\n",
    "<br>Правка выполнена 👍\n",
    "</div>"
   ]
  },
  {
   "cell_type": "code",
   "execution_count": 1,
   "id": "72576667",
   "metadata": {
    "id": "72576667"
   },
   "outputs": [],
   "source": [
    "import pandas as pd\n",
    "import numpy as np\n",
    "import matplotlib.pyplot as plt\n",
    "import seaborn as sns\n",
    "import scipy.stats as st\n",
    "import warnings"
   ]
  },
  {
   "cell_type": "markdown",
   "id": "c6cc1779",
   "metadata": {},
   "source": [
    "<div class=\"alert alert-success\">\n",
    "<b>✔️ Комментарий ревьюера v1:</b> \n",
    "<br>Молодец, что импортируешь все библиотеки отдельно в первой ячейке. Это позволит тебе в любой момент добавить ещё одну библиотеку без перезаписи переменных.\n",
    "</div>"
   ]
  },
  {
   "cell_type": "code",
   "execution_count": 2,
   "id": "xpV2qWp1h2FE",
   "metadata": {
    "id": "xpV2qWp1h2FE"
   },
   "outputs": [],
   "source": [
    "warnings.filterwarnings(\"ignore\")"
   ]
  },
  {
   "cell_type": "code",
   "execution_count": 3,
   "id": "DjkNHTm8gmma",
   "metadata": {
    "id": "DjkNHTm8gmma"
   },
   "outputs": [],
   "source": [
    "sns.set_style('darkgrid')\n",
    "plt.rcParams[\"figure.figsize\"] = (10,6)"
   ]
  },
  {
   "cell_type": "markdown",
   "id": "c42cbe00",
   "metadata": {
    "id": "c42cbe00"
   },
   "source": [
    "#### Шаг 1. Загрузка данных"
   ]
  },
  {
   "cell_type": "code",
   "execution_count": 4,
   "id": "eff9f206",
   "metadata": {
    "id": "eff9f206"
   },
   "outputs": [],
   "source": [
    "users = pd.read_csv('https://code.s3.yandex.net/datasets/users_go.csv')\n",
    "rides = pd.read_csv('https://code.s3.yandex.net/datasets/rides_go.csv')\n",
    "subscriptions = pd.read_csv('https://code.s3.yandex.net/datasets/subscriptions_go.csv')"
   ]
  },
  {
   "cell_type": "code",
   "execution_count": 5,
   "id": "8TA9ph_sYv8L",
   "metadata": {
    "colab": {
     "base_uri": "https://localhost:8080/",
     "height": 369
    },
    "id": "8TA9ph_sYv8L",
    "outputId": "8dc4fac4-eec4-4cc9-c1f7-5d4899c2ae04"
   },
   "outputs": [
    {
     "name": "stdout",
     "output_type": "stream",
     "text": [
      "<class 'pandas.core.frame.DataFrame'>\n",
      "RangeIndex: 1565 entries, 0 to 1564\n",
      "Data columns (total 5 columns):\n",
      " #   Column             Non-Null Count  Dtype \n",
      "---  ------             --------------  ----- \n",
      " 0   user_id            1565 non-null   int64 \n",
      " 1   name               1565 non-null   object\n",
      " 2   age                1565 non-null   int64 \n",
      " 3   city               1565 non-null   object\n",
      " 4   subscription_type  1565 non-null   object\n",
      "dtypes: int64(2), object(3)\n",
      "memory usage: 61.3+ KB\n",
      "None\n"
     ]
    },
    {
     "data": {
      "text/html": [
       "<div>\n",
       "<style scoped>\n",
       "    .dataframe tbody tr th:only-of-type {\n",
       "        vertical-align: middle;\n",
       "    }\n",
       "\n",
       "    .dataframe tbody tr th {\n",
       "        vertical-align: top;\n",
       "    }\n",
       "\n",
       "    .dataframe thead th {\n",
       "        text-align: right;\n",
       "    }\n",
       "</style>\n",
       "<table border=\"1\" class=\"dataframe\">\n",
       "  <thead>\n",
       "    <tr style=\"text-align: right;\">\n",
       "      <th></th>\n",
       "      <th>user_id</th>\n",
       "      <th>name</th>\n",
       "      <th>age</th>\n",
       "      <th>city</th>\n",
       "      <th>subscription_type</th>\n",
       "    </tr>\n",
       "  </thead>\n",
       "  <tbody>\n",
       "    <tr>\n",
       "      <th>0</th>\n",
       "      <td>1</td>\n",
       "      <td>Кира</td>\n",
       "      <td>22</td>\n",
       "      <td>Тюмень</td>\n",
       "      <td>ultra</td>\n",
       "    </tr>\n",
       "    <tr>\n",
       "      <th>1</th>\n",
       "      <td>2</td>\n",
       "      <td>Станислав</td>\n",
       "      <td>31</td>\n",
       "      <td>Омск</td>\n",
       "      <td>ultra</td>\n",
       "    </tr>\n",
       "    <tr>\n",
       "      <th>2</th>\n",
       "      <td>3</td>\n",
       "      <td>Алексей</td>\n",
       "      <td>20</td>\n",
       "      <td>Москва</td>\n",
       "      <td>ultra</td>\n",
       "    </tr>\n",
       "  </tbody>\n",
       "</table>\n",
       "</div>"
      ],
      "text/plain": [
       "   user_id       name  age    city subscription_type\n",
       "0        1       Кира   22  Тюмень             ultra\n",
       "1        2  Станислав   31    Омск             ultra\n",
       "2        3    Алексей   20  Москва             ultra"
      ]
     },
     "execution_count": 5,
     "metadata": {},
     "output_type": "execute_result"
    }
   ],
   "source": [
    "print(users.info())\n",
    "users.head(3)"
   ]
  },
  {
   "cell_type": "code",
   "execution_count": 6,
   "id": "047072bf",
   "metadata": {
    "colab": {
     "base_uri": "https://localhost:8080/",
     "height": 351
    },
    "id": "047072bf",
    "outputId": "e567c9b7-ac05-4eac-f3b4-a0d2c62ccf7c"
   },
   "outputs": [
    {
     "name": "stdout",
     "output_type": "stream",
     "text": [
      "<class 'pandas.core.frame.DataFrame'>\n",
      "RangeIndex: 18068 entries, 0 to 18067\n",
      "Data columns (total 4 columns):\n",
      " #   Column    Non-Null Count  Dtype  \n",
      "---  ------    --------------  -----  \n",
      " 0   user_id   18068 non-null  int64  \n",
      " 1   distance  18068 non-null  float64\n",
      " 2   duration  18068 non-null  float64\n",
      " 3   date      18068 non-null  object \n",
      "dtypes: float64(2), int64(1), object(1)\n",
      "memory usage: 564.8+ KB\n",
      "None\n"
     ]
    },
    {
     "data": {
      "text/html": [
       "<div>\n",
       "<style scoped>\n",
       "    .dataframe tbody tr th:only-of-type {\n",
       "        vertical-align: middle;\n",
       "    }\n",
       "\n",
       "    .dataframe tbody tr th {\n",
       "        vertical-align: top;\n",
       "    }\n",
       "\n",
       "    .dataframe thead th {\n",
       "        text-align: right;\n",
       "    }\n",
       "</style>\n",
       "<table border=\"1\" class=\"dataframe\">\n",
       "  <thead>\n",
       "    <tr style=\"text-align: right;\">\n",
       "      <th></th>\n",
       "      <th>user_id</th>\n",
       "      <th>distance</th>\n",
       "      <th>duration</th>\n",
       "      <th>date</th>\n",
       "    </tr>\n",
       "  </thead>\n",
       "  <tbody>\n",
       "    <tr>\n",
       "      <th>0</th>\n",
       "      <td>1</td>\n",
       "      <td>4409.919140</td>\n",
       "      <td>25.599769</td>\n",
       "      <td>2021-01-01</td>\n",
       "    </tr>\n",
       "    <tr>\n",
       "      <th>1</th>\n",
       "      <td>1</td>\n",
       "      <td>2617.592153</td>\n",
       "      <td>15.816871</td>\n",
       "      <td>2021-01-18</td>\n",
       "    </tr>\n",
       "    <tr>\n",
       "      <th>2</th>\n",
       "      <td>1</td>\n",
       "      <td>754.159807</td>\n",
       "      <td>6.232113</td>\n",
       "      <td>2021-04-20</td>\n",
       "    </tr>\n",
       "  </tbody>\n",
       "</table>\n",
       "</div>"
      ],
      "text/plain": [
       "   user_id     distance   duration        date\n",
       "0        1  4409.919140  25.599769  2021-01-01\n",
       "1        1  2617.592153  15.816871  2021-01-18\n",
       "2        1   754.159807   6.232113  2021-04-20"
      ]
     },
     "execution_count": 6,
     "metadata": {},
     "output_type": "execute_result"
    }
   ],
   "source": [
    "print(rides.info())\n",
    "rides.head(3)"
   ]
  },
  {
   "cell_type": "code",
   "execution_count": 7,
   "id": "BWZ-2vKkY4wP",
   "metadata": {
    "colab": {
     "base_uri": "https://localhost:8080/",
     "height": 320
    },
    "id": "BWZ-2vKkY4wP",
    "outputId": "9833c352-2685-4e3c-9d00-b501ef0129e1"
   },
   "outputs": [
    {
     "name": "stdout",
     "output_type": "stream",
     "text": [
      "<class 'pandas.core.frame.DataFrame'>\n",
      "RangeIndex: 2 entries, 0 to 1\n",
      "Data columns (total 4 columns):\n",
      " #   Column             Non-Null Count  Dtype \n",
      "---  ------             --------------  ----- \n",
      " 0   subscription_type  2 non-null      object\n",
      " 1   minute_price       2 non-null      int64 \n",
      " 2   start_ride_price   2 non-null      int64 \n",
      " 3   subscription_fee   2 non-null      int64 \n",
      "dtypes: int64(3), object(1)\n",
      "memory usage: 192.0+ bytes\n",
      "None\n"
     ]
    },
    {
     "data": {
      "text/html": [
       "<div>\n",
       "<style scoped>\n",
       "    .dataframe tbody tr th:only-of-type {\n",
       "        vertical-align: middle;\n",
       "    }\n",
       "\n",
       "    .dataframe tbody tr th {\n",
       "        vertical-align: top;\n",
       "    }\n",
       "\n",
       "    .dataframe thead th {\n",
       "        text-align: right;\n",
       "    }\n",
       "</style>\n",
       "<table border=\"1\" class=\"dataframe\">\n",
       "  <thead>\n",
       "    <tr style=\"text-align: right;\">\n",
       "      <th></th>\n",
       "      <th>subscription_type</th>\n",
       "      <th>minute_price</th>\n",
       "      <th>start_ride_price</th>\n",
       "      <th>subscription_fee</th>\n",
       "    </tr>\n",
       "  </thead>\n",
       "  <tbody>\n",
       "    <tr>\n",
       "      <th>0</th>\n",
       "      <td>free</td>\n",
       "      <td>8</td>\n",
       "      <td>50</td>\n",
       "      <td>0</td>\n",
       "    </tr>\n",
       "    <tr>\n",
       "      <th>1</th>\n",
       "      <td>ultra</td>\n",
       "      <td>6</td>\n",
       "      <td>0</td>\n",
       "      <td>199</td>\n",
       "    </tr>\n",
       "  </tbody>\n",
       "</table>\n",
       "</div>"
      ],
      "text/plain": [
       "  subscription_type  minute_price  start_ride_price  subscription_fee\n",
       "0              free             8                50                 0\n",
       "1             ultra             6                 0               199"
      ]
     },
     "execution_count": 7,
     "metadata": {},
     "output_type": "execute_result"
    }
   ],
   "source": [
    "print(subscriptions.info())\n",
    "subscriptions.head()"
   ]
  },
  {
   "cell_type": "markdown",
   "id": "b6130511",
   "metadata": {},
   "source": [
    "Данные загружены, выведена основная информация. Необходимо изменить тип данных в столбце с датой. "
   ]
  },
  {
   "cell_type": "markdown",
   "id": "569c44ff",
   "metadata": {},
   "source": [
    "<div class=\"alert alert-danger\">\n",
    "<b>❌ Комментарий ревьюера v1:</b> \n",
    "<br>Стоит написать короткий вывод после первичного анализа данных, который будет планом для дальнейшей предоработки. \n",
    "</div>"
   ]
  },
  {
   "cell_type": "markdown",
   "id": "4b4ba8df",
   "metadata": {},
   "source": [
    "<div class=\"alert alert-info\">\n",
    "<b>Комментарий студента:</b>\n",
    "<br>Добавил вывод\n",
    "</div>"
   ]
  },
  {
   "cell_type": "markdown",
   "id": "adbfa4bc",
   "metadata": {},
   "source": [
    "<div class=\"alert alert-success\">\n",
    "<b>✔️ Комментарий ревьюера v2:</b>\n",
    "<br>Правка выполнена 👍\n",
    "</div>"
   ]
  },
  {
   "cell_type": "markdown",
   "id": "e95ebca7",
   "metadata": {
    "id": "e95ebca7"
   },
   "source": [
    "#### Шаг 2. Предобработка данных"
   ]
  },
  {
   "cell_type": "code",
   "execution_count": 8,
   "id": "af6d202c",
   "metadata": {
    "colab": {
     "base_uri": "https://localhost:8080/"
    },
    "id": "af6d202c",
    "outputId": "5d0ca0b8-4c65-4cf6-9cf4-1c9e31eff240"
   },
   "outputs": [
    {
     "name": "stdout",
     "output_type": "stream",
     "text": [
      "Пропуски в subscriptions: False\n",
      "Пропуски в rides: False\n",
      "Пропуски в users: False\n"
     ]
    }
   ],
   "source": [
    "print(f'Пропуски в subscriptions: {subscriptions.isna().any().any()}')\n",
    "print(f'Пропуски в rides: {rides.isna().any().any()}')\n",
    "print(f'Пропуски в users: {users.isna().any().any()}')"
   ]
  },
  {
   "cell_type": "markdown",
   "id": "veKfBcf5bcsG",
   "metadata": {
    "id": "veKfBcf5bcsG"
   },
   "source": [
    "Пропуски отсутствуют во всех датафреймах"
   ]
  },
  {
   "cell_type": "code",
   "execution_count": 9,
   "id": "t-lONxFWaTFS",
   "metadata": {
    "colab": {
     "base_uri": "https://localhost:8080/"
    },
    "id": "t-lONxFWaTFS",
    "outputId": "9d636f66-fcf9-4509-9b50-0ccfed42b9e0"
   },
   "outputs": [
    {
     "name": "stdout",
     "output_type": "stream",
     "text": [
      "Дубликаты в subscriptions: False\n",
      "Дубликаты в rides: False\n",
      "Дубликаты в users: True\n"
     ]
    }
   ],
   "source": [
    "print(f'Дубликаты в subscriptions: {subscriptions.duplicated().any()}')\n",
    "print(f'Дубликаты в rides: {rides.duplicated().any()}')\n",
    "print(f'Дубликаты в users: {users.duplicated().any()}')"
   ]
  },
  {
   "cell_type": "markdown",
   "id": "fbSCSF1hbb1a",
   "metadata": {
    "id": "fbSCSF1hbb1a"
   },
   "source": [
    "Дубликаты есть в датафрейме `users`. Посмотрим на эти строки и выведем информацию для любого пользователя, `user_id` которого попал в строки-дубликаты"
   ]
  },
  {
   "cell_type": "code",
   "execution_count": 10,
   "id": "Dciz6aP4awNP",
   "metadata": {
    "colab": {
     "base_uri": "https://localhost:8080/",
     "height": 143
    },
    "id": "Dciz6aP4awNP",
    "outputId": "871cf4df-7956-4603-cfa9-eb3082641768"
   },
   "outputs": [
    {
     "data": {
      "text/html": [
       "<div>\n",
       "<style scoped>\n",
       "    .dataframe tbody tr th:only-of-type {\n",
       "        vertical-align: middle;\n",
       "    }\n",
       "\n",
       "    .dataframe tbody tr th {\n",
       "        vertical-align: top;\n",
       "    }\n",
       "\n",
       "    .dataframe thead th {\n",
       "        text-align: right;\n",
       "    }\n",
       "</style>\n",
       "<table border=\"1\" class=\"dataframe\">\n",
       "  <thead>\n",
       "    <tr style=\"text-align: right;\">\n",
       "      <th></th>\n",
       "      <th>user_id</th>\n",
       "      <th>name</th>\n",
       "      <th>age</th>\n",
       "      <th>city</th>\n",
       "      <th>subscription_type</th>\n",
       "    </tr>\n",
       "  </thead>\n",
       "  <tbody>\n",
       "    <tr>\n",
       "      <th>1534</th>\n",
       "      <td>293</td>\n",
       "      <td>Агата</td>\n",
       "      <td>26</td>\n",
       "      <td>Краснодар</td>\n",
       "      <td>ultra</td>\n",
       "    </tr>\n",
       "    <tr>\n",
       "      <th>1535</th>\n",
       "      <td>16</td>\n",
       "      <td>Амалия</td>\n",
       "      <td>27</td>\n",
       "      <td>Краснодар</td>\n",
       "      <td>ultra</td>\n",
       "    </tr>\n",
       "    <tr>\n",
       "      <th>1536</th>\n",
       "      <td>909</td>\n",
       "      <td>Константин</td>\n",
       "      <td>20</td>\n",
       "      <td>Екатеринбург</td>\n",
       "      <td>free</td>\n",
       "    </tr>\n",
       "  </tbody>\n",
       "</table>\n",
       "</div>"
      ],
      "text/plain": [
       "      user_id        name  age          city subscription_type\n",
       "1534      293       Агата   26     Краснодар             ultra\n",
       "1535       16      Амалия   27     Краснодар             ultra\n",
       "1536      909  Константин   20  Екатеринбург              free"
      ]
     },
     "execution_count": 10,
     "metadata": {},
     "output_type": "execute_result"
    }
   ],
   "source": [
    "users[users.duplicated()].head(3)"
   ]
  },
  {
   "cell_type": "code",
   "execution_count": 11,
   "id": "wW-6_TvLbTDL",
   "metadata": {
    "colab": {
     "base_uri": "https://localhost:8080/",
     "height": 112
    },
    "id": "wW-6_TvLbTDL",
    "outputId": "3b2c645a-1128-4384-d333-bbd10c998f5d"
   },
   "outputs": [
    {
     "data": {
      "text/html": [
       "<div>\n",
       "<style scoped>\n",
       "    .dataframe tbody tr th:only-of-type {\n",
       "        vertical-align: middle;\n",
       "    }\n",
       "\n",
       "    .dataframe tbody tr th {\n",
       "        vertical-align: top;\n",
       "    }\n",
       "\n",
       "    .dataframe thead th {\n",
       "        text-align: right;\n",
       "    }\n",
       "</style>\n",
       "<table border=\"1\" class=\"dataframe\">\n",
       "  <thead>\n",
       "    <tr style=\"text-align: right;\">\n",
       "      <th></th>\n",
       "      <th>user_id</th>\n",
       "      <th>name</th>\n",
       "      <th>age</th>\n",
       "      <th>city</th>\n",
       "      <th>subscription_type</th>\n",
       "    </tr>\n",
       "  </thead>\n",
       "  <tbody>\n",
       "    <tr>\n",
       "      <th>292</th>\n",
       "      <td>293</td>\n",
       "      <td>Агата</td>\n",
       "      <td>26</td>\n",
       "      <td>Краснодар</td>\n",
       "      <td>ultra</td>\n",
       "    </tr>\n",
       "    <tr>\n",
       "      <th>1534</th>\n",
       "      <td>293</td>\n",
       "      <td>Агата</td>\n",
       "      <td>26</td>\n",
       "      <td>Краснодар</td>\n",
       "      <td>ultra</td>\n",
       "    </tr>\n",
       "  </tbody>\n",
       "</table>\n",
       "</div>"
      ],
      "text/plain": [
       "      user_id   name  age       city subscription_type\n",
       "292       293  Агата   26  Краснодар             ultra\n",
       "1534      293  Агата   26  Краснодар             ultra"
      ]
     },
     "execution_count": 11,
     "metadata": {},
     "output_type": "execute_result"
    }
   ],
   "source": [
    "users[users['user_id'] == 293]"
   ]
  },
  {
   "cell_type": "markdown",
   "id": "pOYv2szCb3_x",
   "metadata": {
    "id": "pOYv2szCb3_x"
   },
   "source": [
    "Ничего удивительного, строки полностью дублируют друг друга, иначе они бы не были признаны полными дубликатами. Тогда удалим все дублирующие строки, поскольку в датафрейме с профилями пользователей их быть не может"
   ]
  },
  {
   "cell_type": "code",
   "execution_count": 12,
   "id": "yQokG4KJcRxu",
   "metadata": {
    "id": "yQokG4KJcRxu"
   },
   "outputs": [],
   "source": [
    "users.drop_duplicates(inplace=True)"
   ]
  },
  {
   "cell_type": "markdown",
   "id": "uEjJbigSdCZ7",
   "metadata": {
    "id": "uEjJbigSdCZ7"
   },
   "source": [
    "Проверим, повторяются ли `user_id` в датафрейме `users`"
   ]
  },
  {
   "cell_type": "code",
   "execution_count": 13,
   "id": "33jKSHZWdLMa",
   "metadata": {
    "colab": {
     "base_uri": "https://localhost:8080/"
    },
    "id": "33jKSHZWdLMa",
    "outputId": "4d031b5c-9941-431d-bdc2-7e7179cf02bc"
   },
   "outputs": [
    {
     "data": {
      "text/plain": [
       "False"
      ]
     },
     "execution_count": 13,
     "metadata": {},
     "output_type": "execute_result"
    }
   ],
   "source": [
    "users['user_id'].duplicated().any()"
   ]
  },
  {
   "cell_type": "markdown",
   "id": "kNfqDqKydYP0",
   "metadata": {
    "id": "kNfqDqKydYP0"
   },
   "source": [
    "Отлично, здесь дубликатов нет"
   ]
  },
  {
   "cell_type": "markdown",
   "id": "d67f1def",
   "metadata": {},
   "source": [
    "<div class=\"alert alert-success\">\n",
    "<b>✔️ Комментарий ревьюера v1:</b>\n",
    "<br>Проверка на дубликаты выполнена!\n",
    "</div>"
   ]
  },
  {
   "cell_type": "code",
   "execution_count": 14,
   "id": "7tjvPMsCdBXh",
   "metadata": {
    "id": "7tjvPMsCdBXh"
   },
   "outputs": [],
   "source": [
    "rides['date'] = pd.to_datetime(rides['date'], format='%Y-%m-%d')"
   ]
  },
  {
   "cell_type": "markdown",
   "id": "cbeef4d9",
   "metadata": {},
   "source": [
    "<div class=\"alert alert-success\">\n",
    "<b>✔️ Комментарий ревьюера v1:</b> \n",
    "<br>Тип данных изменён верно! \n",
    "</div>\n",
    "\t\t\t\t\n",
    "<div class=\"alert alert-warning\">\n",
    "<b>⚠️ Комментарий ревьюера v1:</b> \n",
    "<br>Если при загрузке данных добавить параметр parse_dates: parse_dates=['date'] то список столбцов автоматически переведется в даты. Подробнее про это можно прочитать по ссылке ниже\n",
    "\t\t\t\t\n",
    "\thttps://newtechaudit.ru/gruzi-daty-krasivo/\n",
    "</div>"
   ]
  },
  {
   "cell_type": "markdown",
   "id": "5a1d0d26",
   "metadata": {},
   "source": [
    "<div class=\"alert alert-info\">\n",
    "<b>Комментарий студента:</b>\n",
    "<br>Круто! \n",
    "</div>"
   ]
  },
  {
   "cell_type": "code",
   "execution_count": 15,
   "id": "Tv95hx5zeRnb",
   "metadata": {
    "id": "Tv95hx5zeRnb"
   },
   "outputs": [],
   "source": [
    "rides['month'] = rides['date'].dt.month"
   ]
  },
  {
   "cell_type": "markdown",
   "id": "d689bccb",
   "metadata": {},
   "source": [
    "<div class=\"alert alert-success\">\n",
    "<b>✔️ Комментарий ревьюера v1:</b> \n",
    "<br>Новый столбец создан верно!\n",
    "</div>"
   ]
  },
  {
   "cell_type": "markdown",
   "id": "64b53878",
   "metadata": {},
   "source": [
    "<div class=\"alert alert-danger\">\n",
    "<b>❌ Комментарий ревьюера v1:</b> \n",
    "<br>В конце каждого раздела, необходимо написать короткий промежуточный вывод. Проверь самостоятельно, чтобы дальше по проекту выводы были\n",
    "</div>"
   ]
  },
  {
   "cell_type": "markdown",
   "id": "84d11db5",
   "metadata": {},
   "source": [
    "**Вывод по предобработке**\n",
    "- Изменен тип данных в столбце с датой\n",
    "- Пропуски отсутствуют во всех датафреймах\n",
    "- Удалены дубликаты в датафрейме `users`"
   ]
  },
  {
   "cell_type": "markdown",
   "id": "92e8a8f4",
   "metadata": {},
   "source": [
    "<div class=\"alert alert-success\">\n",
    "<b>✔️ Комментарий ревьюера v2:</b>\n",
    "<br>Правка выполнена 👍\n",
    "</div>"
   ]
  },
  {
   "cell_type": "markdown",
   "id": "212593c7",
   "metadata": {
    "id": "212593c7"
   },
   "source": [
    "#### Шаг 3. Исследовательский анализ данных\n",
    "\n"
   ]
  },
  {
   "cell_type": "markdown",
   "id": "8zUBU5kLe2_4",
   "metadata": {
    "id": "8zUBU5kLe2_4"
   },
   "source": [
    "##### 3.1 частота встречаемости городов"
   ]
  },
  {
   "cell_type": "code",
   "execution_count": 16,
   "id": "aGm47pvGfTqw",
   "metadata": {
    "id": "aGm47pvGfTqw"
   },
   "outputs": [
    {
     "data": {
      "text/html": [
       "<div>\n",
       "<style scoped>\n",
       "    .dataframe tbody tr th:only-of-type {\n",
       "        vertical-align: middle;\n",
       "    }\n",
       "\n",
       "    .dataframe tbody tr th {\n",
       "        vertical-align: top;\n",
       "    }\n",
       "\n",
       "    .dataframe thead th {\n",
       "        text-align: right;\n",
       "    }\n",
       "</style>\n",
       "<table border=\"1\" class=\"dataframe\">\n",
       "  <thead>\n",
       "    <tr style=\"text-align: right;\">\n",
       "      <th></th>\n",
       "      <th>index</th>\n",
       "      <th>city</th>\n",
       "    </tr>\n",
       "  </thead>\n",
       "  <tbody>\n",
       "    <tr>\n",
       "      <th>0</th>\n",
       "      <td>Пятигорск</td>\n",
       "      <td>219</td>\n",
       "    </tr>\n",
       "    <tr>\n",
       "      <th>1</th>\n",
       "      <td>Екатеринбург</td>\n",
       "      <td>204</td>\n",
       "    </tr>\n",
       "    <tr>\n",
       "      <th>2</th>\n",
       "      <td>Ростов-на-Дону</td>\n",
       "      <td>198</td>\n",
       "    </tr>\n",
       "    <tr>\n",
       "      <th>3</th>\n",
       "      <td>Краснодар</td>\n",
       "      <td>193</td>\n",
       "    </tr>\n",
       "    <tr>\n",
       "      <th>4</th>\n",
       "      <td>Сочи</td>\n",
       "      <td>189</td>\n",
       "    </tr>\n",
       "    <tr>\n",
       "      <th>5</th>\n",
       "      <td>Омск</td>\n",
       "      <td>183</td>\n",
       "    </tr>\n",
       "    <tr>\n",
       "      <th>6</th>\n",
       "      <td>Тюмень</td>\n",
       "      <td>180</td>\n",
       "    </tr>\n",
       "    <tr>\n",
       "      <th>7</th>\n",
       "      <td>Москва</td>\n",
       "      <td>168</td>\n",
       "    </tr>\n",
       "  </tbody>\n",
       "</table>\n",
       "</div>"
      ],
      "text/plain": [
       "            index  city\n",
       "0       Пятигорск   219\n",
       "1    Екатеринбург   204\n",
       "2  Ростов-на-Дону   198\n",
       "3       Краснодар   193\n",
       "4            Сочи   189\n",
       "5            Омск   183\n",
       "6          Тюмень   180\n",
       "7          Москва   168"
      ]
     },
     "execution_count": 16,
     "metadata": {},
     "output_type": "execute_result"
    }
   ],
   "source": [
    "viz = users['city'].value_counts().sort_values(ascending=False).reset_index()\n",
    "viz"
   ]
  },
  {
   "cell_type": "code",
   "execution_count": 17,
   "id": "bfbYbEe2fgQv",
   "metadata": {
    "colab": {
     "base_uri": "https://localhost:8080/",
     "height": 564
    },
    "id": "bfbYbEe2fgQv",
    "outputId": "0bc982ef-63b4-4aa6-d43d-6e7174af008f"
   },
   "outputs": [
    {
     "data": {
      "image/png": "[encoded data removed]",
      "text/plain": [
       "<Figure size 720x432 with 1 Axes>"
      ]
     },
     "metadata": {},
     "output_type": "display_data"
    }
   ],
   "source": [
    "sns.barplot(x='index', y='city', data=viz, palette='Set2')\n",
    "\n",
    "plt.title('Количество пользователей по городам')\n",
    "plt.ylabel('Количество пользователей')\n",
    "plt.xlabel('Город')\n",
    "plt.xticks(rotation=45)\n",
    "\n",
    "plt.show()"
   ]
  },
  {
   "cell_type": "markdown",
   "id": "86edc763",
   "metadata": {},
   "source": [
    "<div class=\"alert alert-success\">\n",
    "<b>✔️ Комментарий ревьюера v1:</b>\n",
    "<br>Молодец, что подписываешь график и его оси, а так же не забываешь про сортировку!\n",
    "</div>"
   ]
  },
  {
   "cell_type": "markdown",
   "id": "PDnMJVIIiVTs",
   "metadata": {
    "id": "PDnMJVIIiVTs"
   },
   "source": [
    "По количеству пользователей лидирует Пятигорск, но, в целом, выборка достаточно сбалансированная"
   ]
  },
  {
   "cell_type": "markdown",
   "id": "MbEQRMNde_3i",
   "metadata": {
    "id": "MbEQRMNde_3i"
   },
   "source": [
    "##### 3.2 соотношение пользователей с подпиской и без подписки"
   ]
  },
  {
   "cell_type": "code",
   "execution_count": 18,
   "id": "Y9vnbBC1iooH",
   "metadata": {
    "colab": {
     "base_uri": "https://localhost:8080/",
     "height": 112
    },
    "id": "Y9vnbBC1iooH",
    "outputId": "6b38af90-378e-4496-b0f2-0897338ea7f1"
   },
   "outputs": [
    {
     "data": {
      "text/html": [
       "<div>\n",
       "<style scoped>\n",
       "    .dataframe tbody tr th:only-of-type {\n",
       "        vertical-align: middle;\n",
       "    }\n",
       "\n",
       "    .dataframe tbody tr th {\n",
       "        vertical-align: top;\n",
       "    }\n",
       "\n",
       "    .dataframe thead th {\n",
       "        text-align: right;\n",
       "    }\n",
       "</style>\n",
       "<table border=\"1\" class=\"dataframe\">\n",
       "  <thead>\n",
       "    <tr style=\"text-align: right;\">\n",
       "      <th></th>\n",
       "      <th>index</th>\n",
       "      <th>count</th>\n",
       "      <th>share</th>\n",
       "    </tr>\n",
       "  </thead>\n",
       "  <tbody>\n",
       "    <tr>\n",
       "      <th>0</th>\n",
       "      <td>free</td>\n",
       "      <td>835</td>\n",
       "      <td>0.54</td>\n",
       "    </tr>\n",
       "    <tr>\n",
       "      <th>1</th>\n",
       "      <td>ultra</td>\n",
       "      <td>699</td>\n",
       "      <td>0.46</td>\n",
       "    </tr>\n",
       "  </tbody>\n",
       "</table>\n",
       "</div>"
      ],
      "text/plain": [
       "   index  count  share\n",
       "0   free    835   0.54\n",
       "1  ultra    699   0.46"
      ]
     },
     "execution_count": 18,
     "metadata": {},
     "output_type": "execute_result"
    }
   ],
   "source": [
    "t = users['subscription_type'].value_counts().sort_values(ascending=False).reset_index()\\\n",
    "    .rename(columns={'subscription_type': 'count'})\n",
    "t['share'] = round(t['count'] / t['count'].sum(), 2)\n",
    "t"
   ]
  },
  {
   "cell_type": "markdown",
   "id": "iuEDwvHQi00F",
   "metadata": {
    "id": "iuEDwvHQi00F"
   },
   "source": [
    "В выборке чуть больше пользователей с подпиской `free`"
   ]
  },
  {
   "cell_type": "code",
   "execution_count": 19,
   "id": "af56aeca",
   "metadata": {},
   "outputs": [
    {
     "data": {
      "image/png": "[encoded data removed]",
      "text/plain": [
       "<Figure size 720x432 with 1 Axes>"
      ]
     },
     "metadata": {},
     "output_type": "display_data"
    }
   ],
   "source": [
    "plt.pie(t['count'], labels=t['index'], autopct='%1.1f%%', startangle=90)\n",
    "plt.title('Cоотношение пользователей с подпиской и без подписки')\n",
    "plt.show()"
   ]
  },
  {
   "cell_type": "markdown",
   "id": "4ae5ddb9",
   "metadata": {},
   "source": [
    "<div class=\"alert alert-danger\">\n",
    "<b>❌ Комментарий ревьюера v1:</b> \n",
    "<br>Нет визуализации. Для этого хорошо пойдет круговая диаграмма\n",
    "</div>"
   ]
  },
  {
   "cell_type": "markdown",
   "id": "d28579d6",
   "metadata": {},
   "source": [
    "<div class=\"alert alert-info\">\n",
    "<b>Комментарий студента:</b>\n",
    "<br>Добавил \n",
    "</div>"
   ]
  },
  {
   "cell_type": "markdown",
   "id": "ab2a3325",
   "metadata": {},
   "source": [
    "<div class=\"alert alert-success\">\n",
    "<b>✔️ Комментарий ревьюера v2:</b>\n",
    "<br>Правка выполнена 👍\n",
    "</div>"
   ]
  },
  {
   "cell_type": "markdown",
   "id": "z3bh9cYNfBk9",
   "metadata": {
    "id": "z3bh9cYNfBk9"
   },
   "source": [
    "##### 3.3 возраст пользователей"
   ]
  },
  {
   "cell_type": "code",
   "execution_count": 20,
   "id": "rh-P9uBNjboo",
   "metadata": {
    "colab": {
     "base_uri": "https://localhost:8080/",
     "height": 564
    },
    "id": "rh-P9uBNjboo",
    "outputId": "8fdf5736-c1e6-43ed-9fd5-f9818b468786"
   },
   "outputs": [
    {
     "data": {
      "image/png": "[encoded data removed]",
      "text/plain": [
       "<Figure size 720x432 with 1 Axes>"
      ]
     },
     "metadata": {},
     "output_type": "display_data"
    }
   ],
   "source": [
    "sns.histplot(users['age'], bins=30, kde=True)\n",
    "\n",
    "plt.title('Распределение возраста пользователей')\n",
    "plt.xlabel('Возраст')\n",
    "plt.ylabel('Частота')\n",
    "\n",
    "plt.show()"
   ]
  },
  {
   "cell_type": "code",
   "execution_count": 21,
   "id": "2072bd80",
   "metadata": {},
   "outputs": [
    {
     "data": {
      "text/html": [
       "<div>\n",
       "<style scoped>\n",
       "    .dataframe tbody tr th:only-of-type {\n",
       "        vertical-align: middle;\n",
       "    }\n",
       "\n",
       "    .dataframe tbody tr th {\n",
       "        vertical-align: top;\n",
       "    }\n",
       "\n",
       "    .dataframe thead th {\n",
       "        text-align: right;\n",
       "    }\n",
       "</style>\n",
       "<table border=\"1\" class=\"dataframe\">\n",
       "  <thead>\n",
       "    <tr style=\"text-align: right;\">\n",
       "      <th></th>\n",
       "      <th>age</th>\n",
       "    </tr>\n",
       "  </thead>\n",
       "  <tbody>\n",
       "    <tr>\n",
       "      <th>count</th>\n",
       "      <td>1534.000000</td>\n",
       "    </tr>\n",
       "    <tr>\n",
       "      <th>mean</th>\n",
       "      <td>24.903520</td>\n",
       "    </tr>\n",
       "    <tr>\n",
       "      <th>std</th>\n",
       "      <td>4.572367</td>\n",
       "    </tr>\n",
       "    <tr>\n",
       "      <th>min</th>\n",
       "      <td>12.000000</td>\n",
       "    </tr>\n",
       "    <tr>\n",
       "      <th>25%</th>\n",
       "      <td>22.000000</td>\n",
       "    </tr>\n",
       "    <tr>\n",
       "      <th>50%</th>\n",
       "      <td>25.000000</td>\n",
       "    </tr>\n",
       "    <tr>\n",
       "      <th>75%</th>\n",
       "      <td>28.000000</td>\n",
       "    </tr>\n",
       "    <tr>\n",
       "      <th>max</th>\n",
       "      <td>43.000000</td>\n",
       "    </tr>\n",
       "  </tbody>\n",
       "</table>\n",
       "</div>"
      ],
      "text/plain": [
       "               age\n",
       "count  1534.000000\n",
       "mean     24.903520\n",
       "std       4.572367\n",
       "min      12.000000\n",
       "25%      22.000000\n",
       "50%      25.000000\n",
       "75%      28.000000\n",
       "max      43.000000"
      ]
     },
     "execution_count": 21,
     "metadata": {},
     "output_type": "execute_result"
    }
   ],
   "source": [
    "users['age'].describe().to_frame()"
   ]
  },
  {
   "cell_type": "markdown",
   "id": "OYA56Pruj6t9",
   "metadata": {
    "id": "OYA56Pruj6t9"
   },
   "source": [
    "Возраст распределён практически нормально. Среднее значение - 25 лет"
   ]
  },
  {
   "cell_type": "markdown",
   "id": "6105461c",
   "metadata": {},
   "source": [
    "<div class=\"alert alert-warning\">\n",
    "<b>⚠️ Комментарий ревьюера v1:</b> \n",
    "<br>В данном случае после графика ещё можно использовать метод describe() для этого столбца. Так мы сможем увидеть расчет описательных статистик\n",
    "</div>"
   ]
  },
  {
   "cell_type": "markdown",
   "id": "32e1447d",
   "metadata": {},
   "source": [
    "<div class=\"alert alert-info\">\n",
    "<b>Комментарий студента:</b>\n",
    "<br>Добавил \n",
    "</div>"
   ]
  },
  {
   "cell_type": "markdown",
   "id": "GuXEuQ6sfEG6",
   "metadata": {
    "id": "GuXEuQ6sfEG6"
   },
   "source": [
    "##### 3.4 расстояние, которое пользователь преодолел за одну поездку"
   ]
  },
  {
   "cell_type": "code",
   "execution_count": 22,
   "id": "oJ2CAzaYkHAW",
   "metadata": {
    "colab": {
     "base_uri": "https://localhost:8080/",
     "height": 564
    },
    "id": "oJ2CAzaYkHAW",
    "outputId": "b6994308-56de-4ec5-ad01-06cc8517d725"
   },
   "outputs": [
    {
     "data": {
      "image/png": "[encoded data removed]",
      "text/plain": [
       "<Figure size 720x432 with 1 Axes>"
      ]
     },
     "metadata": {},
     "output_type": "display_data"
    }
   ],
   "source": [
    "sns.histplot(rides['distance'], bins=50, kde=True)\n",
    "\n",
    "plt.title('Распределение расстояния для поездок')\n",
    "plt.xlabel('Расстояние (в метрах)')\n",
    "plt.ylabel('Частота')\n",
    "\n",
    "plt.show()"
   ]
  },
  {
   "cell_type": "markdown",
   "id": "QnW9A0yalp6b",
   "metadata": {
    "id": "QnW9A0yalp6b"
   },
   "source": [
    "Заметно, что есть два характерных типа поездок - короткие (до 1500 м) и более длинные (от 1500 м)\n",
    "\n",
    "Среднее расстояние для коротких поездок - около 700 м\n",
    "\n",
    "Среднее расстояние для более длинных поездок - около 3100 м"
   ]
  },
  {
   "cell_type": "markdown",
   "id": "f3eadbe7",
   "metadata": {},
   "source": [
    "<div class=\"alert alert-success\">\n",
    "<b>✔️ Комментарий ревьюера v1:</b>\n",
    "<br>Тут всё верно\n",
    "</div>"
   ]
  },
  {
   "cell_type": "markdown",
   "id": "rXTh9pKNfFu1",
   "metadata": {
    "id": "rXTh9pKNfFu1"
   },
   "source": [
    "##### 3.5 продолжительность поездок"
   ]
  },
  {
   "cell_type": "code",
   "execution_count": 23,
   "id": "j3kMzNpEm3Ms",
   "metadata": {
    "colab": {
     "base_uri": "https://localhost:8080/",
     "height": 564
    },
    "id": "j3kMzNpEm3Ms",
    "outputId": "6dbb6afb-d54d-4051-d6d8-922ad70203a5"
   },
   "outputs": [
    {
     "data": {
      "image/png": "[encoded data removed]",
      "text/plain": [
       "<Figure size 720x432 with 1 Axes>"
      ]
     },
     "metadata": {},
     "output_type": "display_data"
    }
   ],
   "source": [
    "sns.histplot(rides['duration'], bins=50, kde=True)\n",
    "\n",
    "plt.title('Распределение длительности поездок')\n",
    "plt.xlabel('Длительность (в минутах)')\n",
    "plt.ylabel('Частота')\n",
    "\n",
    "plt.show()"
   ]
  },
  {
   "cell_type": "markdown",
   "id": "xJSJvL7unjMj",
   "metadata": {
    "id": "xJSJvL7unjMj"
   },
   "source": [
    "Распределение длительности поездок является нормальным.\n",
    "\n",
    "Средняя длительность поездки - около 18 минут\n",
    "\n",
    "Однако, есть заметное число выбросов - поездок, которые длились меньше 2 минут. Изучим их подробнее"
   ]
  },
  {
   "cell_type": "code",
   "execution_count": 24,
   "id": "_0_qbDLPr5rp",
   "metadata": {
    "colab": {
     "base_uri": "https://localhost:8080/",
     "height": 564
    },
    "id": "_0_qbDLPr5rp",
    "outputId": "77ae8631-332e-4984-abe9-bc422d615ddb"
   },
   "outputs": [
    {
     "data": {
      "image/png": "[encoded data removed]",
      "text/plain": [
       "<Figure size 720x432 with 1 Axes>"
      ]
     },
     "metadata": {},
     "output_type": "display_data"
    }
   ],
   "source": [
    "sns.histplot(rides[rides['duration'] < 2]['distance'], bins=10)\n",
    "\n",
    "plt.title('Распределение расстояния для аномально коротких поездок')\n",
    "plt.xlabel('Расстояние (в метрах)')\n",
    "plt.ylabel('Частота')\n",
    "\n",
    "plt.show()"
   ]
  },
  {
   "cell_type": "markdown",
   "id": "7NGBTLZWBR98",
   "metadata": {
    "id": "7NGBTLZWBR98"
   },
   "source": [
    "Минимальное расстояние для аномально коротких поездок - 4000 метров\n",
    "\n",
    "Очевидно, что это ошибки в данных. За 2 минуты и, тем более, меньшее время невозможно проехать такие расстояния\n",
    "\n",
    "Посмотрим, когда появились ошибки в данных, используя разбивку по месяцам."
   ]
  },
  {
   "cell_type": "code",
   "execution_count": 25,
   "id": "h7lJwB6so632",
   "metadata": {
    "colab": {
     "base_uri": "https://localhost:8080/",
     "height": 609
    },
    "id": "h7lJwB6so632",
    "outputId": "fffc9885-88c1-4ed5-866e-795070c17e95"
   },
   "outputs": [
    {
     "data": {
      "image/png": "[encoded data removed]",
      "text/plain": [
       "<Figure size 720x432 with 1 Axes>"
      ]
     },
     "metadata": {},
     "output_type": "display_data"
    }
   ],
   "source": [
    "viz = rides[rides['duration'] < 2].groupby('month')['user_id'].count().reset_index()\n",
    "\n",
    "sns.lineplot(x='month', y='user_id', data=viz)\n",
    "\n",
    "plt.title('Распределение поездок с аномально короткой длительностью поездки')\n",
    "plt.xlabel(' ')\n",
    "plt.ylabel('Количество поездок')\n",
    "\n",
    "month_names = {\n",
    "    1: 'Январь',\n",
    "    2: 'Февраль',\n",
    "    3: 'Март',\n",
    "    4: 'Апрель',\n",
    "    5: 'Май',\n",
    "    6: 'Июнь',\n",
    "    7: 'Июль',\n",
    "    8: 'Август',\n",
    "    9: 'Сентябрь',\n",
    "    10: 'Октябрь',\n",
    "    11: 'Ноябрь',\n",
    "    12: 'Декабрь'\n",
    "}\n",
    "\n",
    "plt.xticks(ticks=viz['month'], labels=[month_names[num] for num in viz['month']], rotation=45)\n",
    "plt.ylim(0, 12)\n",
    "\n",
    "plt.show()"
   ]
  },
  {
   "cell_type": "markdown",
   "id": "xbJcXgRGrZ-2",
   "metadata": {
    "id": "xbJcXgRGrZ-2"
   },
   "source": [
    "Нет какого-то месяца, в котором не было бы аномально коротких поездок. Проблема сохраняется в течение всего года"
   ]
  },
  {
   "cell_type": "markdown",
   "id": "135a370f",
   "metadata": {},
   "source": [
    "<div class=\"alert alert-success\">\n",
    "<b>✔️ Комментарий ревьюера v1:</b>\n",
    "<br>Молодец, что изучаешь аномалии и при этом не удаляешь их. Эти значения удалять не нужно, так как за эти поездки могла начисляться плата.\n",
    "</div>"
   ]
  },
  {
   "cell_type": "markdown",
   "id": "fbf30b99",
   "metadata": {},
   "source": [
    "**Вывод по EDA**\n",
    "- По количеству пользователей лидирует Пятигорск, но, в целом, выборка достаточно сбалансированная\n",
    "- В выборке чуть больше пользователей с подпиской `free`\n",
    "- Возраст пользователей распределён практически нормально. Среднее значение - 25 лет\n",
    "- Есть два характерных типа поездок - короткие (до 1500 м) и более длинные (от 1500 м)\n",
    "    - Среднее расстояние для коротких поездок - около 700 м\n",
    "    - Среднее расстояние для более длинных поездок - около 3100 м\n",
    "- Распределение длительности поездок является нормальным.\n",
    "    - Средняя длительность поездки - около 18 минут\n",
    "    - Есть заметное число выбросов - поездок, которые длились меньше 2 минут. При этом минимальное расстояние поездки для них: 4000 м"
   ]
  },
  {
   "cell_type": "markdown",
   "id": "4ef51331",
   "metadata": {
    "id": "4ef51331"
   },
   "source": [
    "#### Шаг 4. Объединение данных"
   ]
  },
  {
   "cell_type": "code",
   "execution_count": 26,
   "id": "hhG_pYlTD16E",
   "metadata": {
    "colab": {
     "base_uri": "https://localhost:8080/",
     "height": 206
    },
    "id": "hhG_pYlTD16E",
    "outputId": "7dfed404-8e8d-4ba2-befe-564fee47c021"
   },
   "outputs": [
    {
     "data": {
      "text/html": [
       "<div>\n",
       "<style scoped>\n",
       "    .dataframe tbody tr th:only-of-type {\n",
       "        vertical-align: middle;\n",
       "    }\n",
       "\n",
       "    .dataframe tbody tr th {\n",
       "        vertical-align: top;\n",
       "    }\n",
       "\n",
       "    .dataframe thead th {\n",
       "        text-align: right;\n",
       "    }\n",
       "</style>\n",
       "<table border=\"1\" class=\"dataframe\">\n",
       "  <thead>\n",
       "    <tr style=\"text-align: right;\">\n",
       "      <th></th>\n",
       "      <th>user_id</th>\n",
       "      <th>distance</th>\n",
       "      <th>duration</th>\n",
       "      <th>date</th>\n",
       "      <th>month</th>\n",
       "      <th>name</th>\n",
       "      <th>age</th>\n",
       "      <th>city</th>\n",
       "      <th>subscription_type</th>\n",
       "      <th>minute_price</th>\n",
       "      <th>start_ride_price</th>\n",
       "      <th>subscription_fee</th>\n",
       "    </tr>\n",
       "  </thead>\n",
       "  <tbody>\n",
       "    <tr>\n",
       "      <th>0</th>\n",
       "      <td>1</td>\n",
       "      <td>4409.919140</td>\n",
       "      <td>25.599769</td>\n",
       "      <td>2021-01-01</td>\n",
       "      <td>1</td>\n",
       "      <td>Кира</td>\n",
       "      <td>22</td>\n",
       "      <td>Тюмень</td>\n",
       "      <td>ultra</td>\n",
       "      <td>6</td>\n",
       "      <td>0</td>\n",
       "      <td>199</td>\n",
       "    </tr>\n",
       "    <tr>\n",
       "      <th>1</th>\n",
       "      <td>1</td>\n",
       "      <td>2617.592153</td>\n",
       "      <td>15.816871</td>\n",
       "      <td>2021-01-18</td>\n",
       "      <td>1</td>\n",
       "      <td>Кира</td>\n",
       "      <td>22</td>\n",
       "      <td>Тюмень</td>\n",
       "      <td>ultra</td>\n",
       "      <td>6</td>\n",
       "      <td>0</td>\n",
       "      <td>199</td>\n",
       "    </tr>\n",
       "    <tr>\n",
       "      <th>2</th>\n",
       "      <td>1</td>\n",
       "      <td>754.159807</td>\n",
       "      <td>6.232113</td>\n",
       "      <td>2021-04-20</td>\n",
       "      <td>4</td>\n",
       "      <td>Кира</td>\n",
       "      <td>22</td>\n",
       "      <td>Тюмень</td>\n",
       "      <td>ultra</td>\n",
       "      <td>6</td>\n",
       "      <td>0</td>\n",
       "      <td>199</td>\n",
       "    </tr>\n",
       "    <tr>\n",
       "      <th>3</th>\n",
       "      <td>1</td>\n",
       "      <td>2694.783254</td>\n",
       "      <td>18.511000</td>\n",
       "      <td>2021-08-11</td>\n",
       "      <td>8</td>\n",
       "      <td>Кира</td>\n",
       "      <td>22</td>\n",
       "      <td>Тюмень</td>\n",
       "      <td>ultra</td>\n",
       "      <td>6</td>\n",
       "      <td>0</td>\n",
       "      <td>199</td>\n",
       "    </tr>\n",
       "    <tr>\n",
       "      <th>4</th>\n",
       "      <td>1</td>\n",
       "      <td>4028.687306</td>\n",
       "      <td>26.265803</td>\n",
       "      <td>2021-08-28</td>\n",
       "      <td>8</td>\n",
       "      <td>Кира</td>\n",
       "      <td>22</td>\n",
       "      <td>Тюмень</td>\n",
       "      <td>ultra</td>\n",
       "      <td>6</td>\n",
       "      <td>0</td>\n",
       "      <td>199</td>\n",
       "    </tr>\n",
       "  </tbody>\n",
       "</table>\n",
       "</div>"
      ],
      "text/plain": [
       "   user_id     distance   duration       date  month  name  age    city  \\\n",
       "0        1  4409.919140  25.599769 2021-01-01      1  Кира   22  Тюмень   \n",
       "1        1  2617.592153  15.816871 2021-01-18      1  Кира   22  Тюмень   \n",
       "2        1   754.159807   6.232113 2021-04-20      4  Кира   22  Тюмень   \n",
       "3        1  2694.783254  18.511000 2021-08-11      8  Кира   22  Тюмень   \n",
       "4        1  4028.687306  26.265803 2021-08-28      8  Кира   22  Тюмень   \n",
       "\n",
       "  subscription_type  minute_price  start_ride_price  subscription_fee  \n",
       "0             ultra             6                 0               199  \n",
       "1             ultra             6                 0               199  \n",
       "2             ultra             6                 0               199  \n",
       "3             ultra             6                 0               199  \n",
       "4             ultra             6                 0               199  "
      ]
     },
     "execution_count": 26,
     "metadata": {},
     "output_type": "execute_result"
    }
   ],
   "source": [
    "df = rides.merge(users, on='user_id', how='left')\\\n",
    "  .merge(subscriptions, on='subscription_type', how='left')\n",
    "df.head()"
   ]
  },
  {
   "cell_type": "code",
   "execution_count": 27,
   "id": "s5t8ACA3Etvy",
   "metadata": {
    "id": "s5t8ACA3Etvy"
   },
   "outputs": [],
   "source": [
    "free = df[df['subscription_type'] == 'free']\n",
    "ultra = df[df['subscription_type'] == 'ultra']"
   ]
  },
  {
   "cell_type": "code",
   "execution_count": 28,
   "id": "2c45cc5a",
   "metadata": {},
   "outputs": [
    {
     "name": "stdout",
     "output_type": "stream",
     "text": [
      "Размер изначального датафрейма (18068, 12)\n",
      "Размер датафрейма free (11568, 12)\n",
      "Размер датафрейма ultra (6500, 12)\n"
     ]
    }
   ],
   "source": [
    "print('Размер изначального датафрейма', df.shape)\n",
    "print('Размер датафрейма free', free.shape)\n",
    "print('Размер датафрейма ultra', ultra.shape)\n",
    "\n",
    "assert free.shape[0] + ultra.shape[0] == df.shape[0]"
   ]
  },
  {
   "cell_type": "markdown",
   "id": "395d8149",
   "metadata": {},
   "source": [
    "<div class=\"alert alert-warning\">\n",
    "<b>⚠️ Комментарий ревьюера v1:</b> \n",
    "<br>После создания новых таблиц, не забывай проверять их размерность, чтобы убедиться, что ничего не потерялось. \n",
    "</div>"
   ]
  },
  {
   "cell_type": "markdown",
   "id": "2aa87745",
   "metadata": {},
   "source": [
    "<div class=\"alert alert-info\">\n",
    "<b>Комментарий студента:</b>\n",
    "<br>Добавил \n",
    "</div>"
   ]
  },
  {
   "cell_type": "code",
   "execution_count": 29,
   "id": "2gh_kPaXTT2Q",
   "metadata": {
    "colab": {
     "base_uri": "https://localhost:8080/",
     "height": 609
    },
    "id": "2gh_kPaXTT2Q",
    "outputId": "1768e647-259d-4c1a-d2d3-8a089c21249a"
   },
   "outputs": [
    {
     "data": {
      "image/png": "[encoded data removed]",
      "text/plain": [
       "<Figure size 1008x432 with 2 Axes>"
      ]
     },
     "metadata": {},
     "output_type": "display_data"
    }
   ],
   "source": [
    "fig, axes = plt.subplots(1, 2, figsize=(14, 6))\n",
    "\n",
    "sns.histplot(data=free, x='duration', color='blue', alpha=0.5, label='Free', ax=axes[0])\n",
    "sns.histplot(data=ultra, x='duration', color='orange', alpha=0.5, label='Ultra', ax=axes[0])\n",
    "\n",
    "axes[0].legend()\n",
    "axes[0].set_title('Распеределение длительности')\n",
    "axes[0].set_xlabel('Длительность')\n",
    "axes[0].set_ylabel('Частота')\n",
    "\n",
    "sns.histplot(data=free, x='distance', color='blue', alpha=0.5, label='Free', ax=axes[1])\n",
    "sns.histplot(data=ultra, x='distance', color='orange', alpha=0.5, label='Ultra', ax=axes[1])\n",
    "\n",
    "axes[1].legend()\n",
    "axes[1].set_title('Распределение расстояния')\n",
    "axes[1].set_xlabel('Расстояние')\n",
    "axes[1].set_ylabel('Частота')\n",
    "\n",
    "plt.suptitle('Сравнение подписок Free и Ultra', fontweight='bold')\n",
    "plt.tight_layout()\n",
    "plt.show()"
   ]
  },
  {
   "cell_type": "markdown",
   "id": "C-qPu0dFU-pm",
   "metadata": {
    "id": "C-qPu0dFU-pm"
   },
   "source": [
    "**Длительность**\n",
    "\n",
    "Длительность поездки для обеих подписок имеет примерно одинаковое, нормальное распределение, однако заметно, что непродолжительных поездок до 10 минут пользователи с подпиской Ultra совершают значительно меньше.\n",
    "\n",
    "**Расстояние**\n",
    "\n",
    "Среднее расстояние примерно одинаково для Free и Ultra\n",
    "\n",
    "Для пользователей с подпиской Free и Ultrа можно выделить разное понимание коротких поездок:\n",
    "- Для Free короткими являются поездки до 1500 м\n",
    "- Для Ultra короткими являются поездки до 2000 м\n",
    "\n",
    "При этом коротких поездок с подпиской Ultra меньше, чем коротких поездок с подпиской Free. Платящие пользователи проезжают минимум 500 м, в то время как неплатящие нередко проезжают расстояние меньше.\n",
    "\n",
    "Однако дисперсия расстояния платящих пользователей меньше. Они практически не проезжают больше 5000 м, а также само распределение расстояние поездки более узкое вокруг среднего."
   ]
  },
  {
   "cell_type": "markdown",
   "id": "d1a38e1e",
   "metadata": {},
   "source": [
    "<div class=\"alert alert-success\">\n",
    "<b>✔️ Комментарий ревьюера v1:</b>\n",
    "<br>Ты правильно делаешь, что совмещаешь оба графика, так их проще сравнить друг с другом\n",
    "</div>"
   ]
  },
  {
   "cell_type": "markdown",
   "id": "402d620f",
   "metadata": {
    "id": "402d620f"
   },
   "source": [
    "#### Шаг 5. Подсчёт выручки"
   ]
  },
  {
   "cell_type": "markdown",
   "id": "mEovQI_EXhRk",
   "metadata": {
    "id": "mEovQI_EXhRk"
   },
   "source": [
    "5.1 Создайте датафрейм с агрегированными данными о поездках на основе датафрейма с объединёнными данными из шага 4: найдите суммарное расстояние, количество поездок и суммарное время для каждого пользователя за каждый месяц."
   ]
  },
  {
   "cell_type": "markdown",
   "id": "4f5c18b7",
   "metadata": {},
   "source": [
    "<div class=\"alert alert-danger\">\n",
    "<b>❌ Комментарий ревьюера v1:</b> \n",
    "<br>Важно округлить длительность каждой поездки перед агрегацией данных по месяцам, так как это может повлиять на суммарную продолжительность поездок\n",
    "</div>"
   ]
  },
  {
   "cell_type": "markdown",
   "id": "e58b7028",
   "metadata": {},
   "source": [
    "<div class=\"alert alert-info\">\n",
    "<b>Комментарий студента:</b>\n",
    "<br>Да, это повлияет. Боюсь, не в лучшую сторону )) Будем копить ошибку с каждым округлением. Тем не менее, исправил\n",
    "    \n",
    "Пожалуйста, объясни, зачем это нужно?\n",
    "</div>"
   ]
  },
  {
   "cell_type": "markdown",
   "id": "e897ceaa",
   "metadata": {},
   "source": [
    "<div class=\"alert alert-success\">\n",
    "<b>✔️ Комментарий ревьюера v2:</b>\n",
    "<br>Допустим, у нас есть 2 пользователя: 1 сделал 3 поездки и мы округлим после агрегации (1м 20с, 1м, 10с, 1м 25с)=3м 55с=4м; 2 тоже сделал 3 поездки (1м 20с=2м, 1м 10с=2м, 1м 25с=2м)=6 минут. Получается, что в зависимости от способа у нас будут разные результаты\n",
    "</div>"
   ]
  },
  {
   "cell_type": "code",
   "execution_count": 30,
   "id": "dc73c330",
   "metadata": {},
   "outputs": [],
   "source": [
    "df['duration'] = round(df['duration'])"
   ]
  },
  {
   "cell_type": "code",
   "execution_count": 31,
   "id": "TCk_-NSNYthN",
   "metadata": {
    "colab": {
     "base_uri": "https://localhost:8080/",
     "height": 423
    },
    "id": "TCk_-NSNYthN",
    "outputId": "32849c77-7137-435f-a4b2-ebf1861eb166"
   },
   "outputs": [
    {
     "data": {
      "text/html": [
       "<div>\n",
       "<style scoped>\n",
       "    .dataframe tbody tr th:only-of-type {\n",
       "        vertical-align: middle;\n",
       "    }\n",
       "\n",
       "    .dataframe tbody tr th {\n",
       "        vertical-align: top;\n",
       "    }\n",
       "\n",
       "    .dataframe thead th {\n",
       "        text-align: right;\n",
       "    }\n",
       "</style>\n",
       "<table border=\"1\" class=\"dataframe\">\n",
       "  <thead>\n",
       "    <tr style=\"text-align: right;\">\n",
       "      <th></th>\n",
       "      <th>user_id</th>\n",
       "      <th>month</th>\n",
       "      <th>distance</th>\n",
       "      <th>ride_count</th>\n",
       "      <th>duration</th>\n",
       "      <th>subscription_type</th>\n",
       "      <th>minute_price</th>\n",
       "      <th>start_ride_price</th>\n",
       "      <th>subscription_fee</th>\n",
       "    </tr>\n",
       "  </thead>\n",
       "  <tbody>\n",
       "    <tr>\n",
       "      <th>0</th>\n",
       "      <td>1</td>\n",
       "      <td>1</td>\n",
       "      <td>7027.511294</td>\n",
       "      <td>2</td>\n",
       "      <td>42.0</td>\n",
       "      <td>ultra</td>\n",
       "      <td>6</td>\n",
       "      <td>0</td>\n",
       "      <td>199</td>\n",
       "    </tr>\n",
       "    <tr>\n",
       "      <th>1</th>\n",
       "      <td>1</td>\n",
       "      <td>4</td>\n",
       "      <td>754.159807</td>\n",
       "      <td>1</td>\n",
       "      <td>6.0</td>\n",
       "      <td>ultra</td>\n",
       "      <td>6</td>\n",
       "      <td>0</td>\n",
       "      <td>199</td>\n",
       "    </tr>\n",
       "    <tr>\n",
       "      <th>2</th>\n",
       "      <td>1</td>\n",
       "      <td>8</td>\n",
       "      <td>6723.470560</td>\n",
       "      <td>2</td>\n",
       "      <td>45.0</td>\n",
       "      <td>ultra</td>\n",
       "      <td>6</td>\n",
       "      <td>0</td>\n",
       "      <td>199</td>\n",
       "    </tr>\n",
       "    <tr>\n",
       "      <th>3</th>\n",
       "      <td>1</td>\n",
       "      <td>10</td>\n",
       "      <td>5809.911100</td>\n",
       "      <td>2</td>\n",
       "      <td>32.0</td>\n",
       "      <td>ultra</td>\n",
       "      <td>6</td>\n",
       "      <td>0</td>\n",
       "      <td>199</td>\n",
       "    </tr>\n",
       "    <tr>\n",
       "      <th>4</th>\n",
       "      <td>1</td>\n",
       "      <td>11</td>\n",
       "      <td>7003.499363</td>\n",
       "      <td>3</td>\n",
       "      <td>53.0</td>\n",
       "      <td>ultra</td>\n",
       "      <td>6</td>\n",
       "      <td>0</td>\n",
       "      <td>199</td>\n",
       "    </tr>\n",
       "    <tr>\n",
       "      <th>...</th>\n",
       "      <td>...</td>\n",
       "      <td>...</td>\n",
       "      <td>...</td>\n",
       "      <td>...</td>\n",
       "      <td>...</td>\n",
       "      <td>...</td>\n",
       "      <td>...</td>\n",
       "      <td>...</td>\n",
       "      <td>...</td>\n",
       "    </tr>\n",
       "    <tr>\n",
       "      <th>11326</th>\n",
       "      <td>1534</td>\n",
       "      <td>6</td>\n",
       "      <td>3409.468534</td>\n",
       "      <td>2</td>\n",
       "      <td>24.0</td>\n",
       "      <td>free</td>\n",
       "      <td>8</td>\n",
       "      <td>50</td>\n",
       "      <td>0</td>\n",
       "    </tr>\n",
       "    <tr>\n",
       "      <th>11327</th>\n",
       "      <td>1534</td>\n",
       "      <td>8</td>\n",
       "      <td>7622.453034</td>\n",
       "      <td>2</td>\n",
       "      <td>47.0</td>\n",
       "      <td>free</td>\n",
       "      <td>8</td>\n",
       "      <td>50</td>\n",
       "      <td>0</td>\n",
       "    </tr>\n",
       "    <tr>\n",
       "      <th>11328</th>\n",
       "      <td>1534</td>\n",
       "      <td>9</td>\n",
       "      <td>4928.173852</td>\n",
       "      <td>1</td>\n",
       "      <td>23.0</td>\n",
       "      <td>free</td>\n",
       "      <td>8</td>\n",
       "      <td>50</td>\n",
       "      <td>0</td>\n",
       "    </tr>\n",
       "    <tr>\n",
       "      <th>11329</th>\n",
       "      <td>1534</td>\n",
       "      <td>11</td>\n",
       "      <td>13350.015305</td>\n",
       "      <td>4</td>\n",
       "      <td>76.0</td>\n",
       "      <td>free</td>\n",
       "      <td>8</td>\n",
       "      <td>50</td>\n",
       "      <td>0</td>\n",
       "    </tr>\n",
       "    <tr>\n",
       "      <th>11330</th>\n",
       "      <td>1534</td>\n",
       "      <td>12</td>\n",
       "      <td>2371.711192</td>\n",
       "      <td>1</td>\n",
       "      <td>16.0</td>\n",
       "      <td>free</td>\n",
       "      <td>8</td>\n",
       "      <td>50</td>\n",
       "      <td>0</td>\n",
       "    </tr>\n",
       "  </tbody>\n",
       "</table>\n",
       "<p>11331 rows × 9 columns</p>\n",
       "</div>"
      ],
      "text/plain": [
       "       user_id  month      distance  ride_count  duration subscription_type  \\\n",
       "0            1      1   7027.511294           2      42.0             ultra   \n",
       "1            1      4    754.159807           1       6.0             ultra   \n",
       "2            1      8   6723.470560           2      45.0             ultra   \n",
       "3            1     10   5809.911100           2      32.0             ultra   \n",
       "4            1     11   7003.499363           3      53.0             ultra   \n",
       "...        ...    ...           ...         ...       ...               ...   \n",
       "11326     1534      6   3409.468534           2      24.0              free   \n",
       "11327     1534      8   7622.453034           2      47.0              free   \n",
       "11328     1534      9   4928.173852           1      23.0              free   \n",
       "11329     1534     11  13350.015305           4      76.0              free   \n",
       "11330     1534     12   2371.711192           1      16.0              free   \n",
       "\n",
       "       minute_price  start_ride_price  subscription_fee  \n",
       "0                 6                 0               199  \n",
       "1                 6                 0               199  \n",
       "2                 6                 0               199  \n",
       "3                 6                 0               199  \n",
       "4                 6                 0               199  \n",
       "...             ...               ...               ...  \n",
       "11326             8                50                 0  \n",
       "11327             8                50                 0  \n",
       "11328             8                50                 0  \n",
       "11329             8                50                 0  \n",
       "11330             8                50                 0  \n",
       "\n",
       "[11331 rows x 9 columns]"
      ]
     },
     "execution_count": 31,
     "metadata": {},
     "output_type": "execute_result"
    }
   ],
   "source": [
    "agg_df = (\n",
    "    df.groupby(['user_id', 'month'])['distance'].sum().reset_index()\n",
    "    .merge(\n",
    "        df.groupby(['user_id', 'month'])['date'].count().reset_index().rename(columns={'date': 'ride_count'}),\n",
    "        on=['user_id', 'month']\n",
    "    )\n",
    "    .merge(\n",
    "        df.groupby(['user_id', 'month'])['duration'].sum().reset_index(),\n",
    "        on=['user_id', 'month']\n",
    "    )\n",
    "    .merge(\n",
    "        users,\n",
    "        on='user_id',\n",
    "        how='left'\n",
    "    )\n",
    "    .merge(\n",
    "        subscriptions,\n",
    "        on='subscription_type'\n",
    "    )\n",
    "    .drop(columns=['name', 'age', 'city'])\n",
    ")\n",
    "agg_df"
   ]
  },
  {
   "cell_type": "markdown",
   "id": "BksADwGRbjjj",
   "metadata": {
    "id": "BksADwGRbjjj"
   },
   "source": [
    "5.2 В этот же датафрейм добавьте столбец с помесячной выручкой, которую принёс каждый пользователь. Для этого обратитесь к информации об условиях оплаты для подписчиков и тех, у кого нет подписки. Продолжительность каждой поездки в каждой строке исходного датафрейма для подсчёта стоимости округляется до следующего целого числа: например, значения\n",
    "25.3\n",
    "25.3,\n",
    "25.5\n",
    "25.5 и\n",
    "26.0\n",
    "26.0 должны быть преобразованы к\n",
    "26\n",
    "26."
   ]
  },
  {
   "cell_type": "code",
   "execution_count": 32,
   "id": "53049e0a",
   "metadata": {
    "id": "53049e0a"
   },
   "outputs": [],
   "source": [
    "agg_df['duration'] = np.ceil(agg_df['duration'])"
   ]
  },
  {
   "cell_type": "code",
   "execution_count": 33,
   "id": "IH4N3bAPdGdf",
   "metadata": {
    "id": "IH4N3bAPdGdf"
   },
   "outputs": [],
   "source": [
    "agg_df['rev'] = (\n",
    "    agg_df['subscription_fee'] +\n",
    "    agg_df['start_ride_price'] *\n",
    "    agg_df['ride_count'] +\n",
    "    agg_df['duration'] *\n",
    "    agg_df['minute_price']\n",
    ")"
   ]
  },
  {
   "cell_type": "markdown",
   "id": "003963e1",
   "metadata": {},
   "source": [
    "<div class=\"alert alert-success\">\n",
    "<b>✔️ Комментарий ревьюера v1:</b>\n",
    "<br>Выручка расчитана верно!\n",
    "</div>"
   ]
  },
  {
   "cell_type": "markdown",
   "id": "41545ac0",
   "metadata": {
    "id": "41545ac0"
   },
   "source": [
    "#### Шаг 6. Проверка гипотез"
   ]
  },
  {
   "cell_type": "markdown",
   "id": "OFnBWVK4efhj",
   "metadata": {
    "id": "OFnBWVK4efhj"
   },
   "source": [
    "##### 6.1 Тратят ли пользователи с подпиской больше времени на поездки?\n",
    "\n",
    "Если да, то пользователи с подпиской могут быть «выгоднее» для компании. Проверьте гипотезу. Используйте исходные данные о продолжительности каждой сессии — отдельно для подписчиков и тех, у кого нет подписки.\n"
   ]
  },
  {
   "cell_type": "markdown",
   "id": "dNlvXRdiD3Ns",
   "metadata": {
    "id": "dNlvXRdiD3Ns"
   },
   "source": [
    "H0: пользователи и с подпиской, и без неё тратят одинаковое время на поездки\n",
    "\n",
    "H1: пользователи с подпиской тратят больше времени на поездки"
   ]
  },
  {
   "cell_type": "markdown",
   "id": "04ee5e53",
   "metadata": {},
   "source": [
    "<div class=\"alert alert-success\">\n",
    "<b>✔️ Комментарий ревьюера v1:</b>\n",
    "<br>Гипотезы сформулированы верно\n",
    "</div>"
   ]
  },
  {
   "cell_type": "code",
   "execution_count": 34,
   "id": "23ea867b",
   "metadata": {
    "colab": {
     "base_uri": "https://localhost:8080/"
    },
    "id": "23ea867b",
    "outputId": "b956250c-0c9a-453d-9be2-4e9fff211137"
   },
   "outputs": [
    {
     "name": "stdout",
     "output_type": "stream",
     "text": [
      "Cредняя продолжительность для ultra:  18.54\n",
      "Cреднее продолжительность для free:  17.39\n",
      "p-value: 0.000\n",
      "p-value (неформатированный): 1.2804098316645618e-34\n"
     ]
    }
   ],
   "source": [
    "res = st.ttest_ind(a=ultra['duration'], b=free['duration'], alternative='greater')\n",
    "print('Cредняя продолжительность для ultra: ', round(ultra['duration'].mean(), 2))\n",
    "print('Cреднее продолжительность для free: ', round(free['duration'].mean(), 2))\n",
    "print(\"p-value: {:.3f}\".format(res.pvalue))\n",
    "print(f\"p-value (неформатированный): {res.pvalue}\")"
   ]
  },
  {
   "cell_type": "markdown",
   "id": "eb32bdf3",
   "metadata": {},
   "source": [
    "<div class=\"alert alert-warning\">\n",
    "<b>⚠️ Комментарий ревьюера v1:</b> \n",
    "<br>Тут лучше не использовать форматирование вывода p-value, чтобы не получать 0 в итоге\n",
    "</div>"
   ]
  },
  {
   "cell_type": "markdown",
   "id": "e1246270",
   "metadata": {},
   "source": [
    "<div class=\"alert alert-info\">\n",
    "<b>Комментарий студента:</b>\n",
    "<br>Добавил ориганальный вариант в вывод\n",
    "</div>"
   ]
  },
  {
   "cell_type": "markdown",
   "id": "tVHDst1cGHrI",
   "metadata": {
    "id": "tVHDst1cGHrI"
   },
   "source": [
    "p-value < $\\alpha$\n",
    "\n",
    "При любом уровне значимости, гипотеза Н0 отвергается в пользу Н1, таким образом, пользователи с подпиской тратят больше времени на поездки"
   ]
  },
  {
   "cell_type": "markdown",
   "id": "NPksVr50HPsG",
   "metadata": {
    "id": "NPksVr50HPsG"
   },
   "source": [
    "##### 6.2 Можно ли сказать, что среднее расстояние, которое проезжают пользователи с подпиской за одну поездку, не превышает 3130 метров?  \n",
    "Расстояние одной поездки в 3130 метров — оптимальное с точки зрения износа самоката.\n"
   ]
  },
  {
   "cell_type": "markdown",
   "id": "4cF1dd9OIBZg",
   "metadata": {
    "id": "4cF1dd9OIBZg"
   },
   "source": [
    "H0: среднее расстояние поездки пользователей с подпиской не превышает 3130 м\n",
    "\n",
    "H1: среднее расстояние поездки пользователей с подпиской превышает 3130 м"
   ]
  },
  {
   "cell_type": "markdown",
   "id": "fb891fb6",
   "metadata": {},
   "source": [
    "<div class=\"alert alert-success\">\n",
    "<b>✔️ Комментарий ревьюера v1:</b>\n",
    "<br>Гипотезы сформулированы верно\n",
    "</div>"
   ]
  },
  {
   "cell_type": "code",
   "execution_count": 35,
   "id": "EpWRElOQHurV",
   "metadata": {
    "colab": {
     "base_uri": "https://localhost:8080/"
    },
    "id": "EpWRElOQHurV",
    "outputId": "58c69504-897e-45e6-9633-a89d49fdd52d"
   },
   "outputs": [
    {
     "name": "stdout",
     "output_type": "stream",
     "text": [
      "Cреднее расстояние для ultra:  3115.45\n",
      "p-value: 0.920\n"
     ]
    }
   ],
   "source": [
    "m = 3130\n",
    "res = st.ttest_1samp(a=ultra['distance'], popmean=m, alternative='greater')\n",
    "print('Cреднее расстояние для ultra: ', round(ultra['distance'].mean(), 2))\n",
    "print(\"p-value: {:.3f}\".format(res.pvalue))"
   ]
  },
  {
   "cell_type": "markdown",
   "id": "dFUN5hDWJO21",
   "metadata": {
    "id": "dFUN5hDWJO21"
   },
   "source": [
    "p-value > $\\alpha$ (при любом разумном $\\alpha$)\n",
    "\n",
    "H0 не отвергается, таким образом, среднее расстояние поездки пользователей с подпиской не превышает 3130 м"
   ]
  },
  {
   "cell_type": "markdown",
   "id": "4e7fd65f",
   "metadata": {},
   "source": [
    "<div class=\"alert alert-success\">\n",
    "<b>✔️ Комментарий ревьюера v1:</b>\n",
    "<br>Вывод верный\n",
    "</div>"
   ]
  },
  {
   "cell_type": "markdown",
   "id": "pZb9b1IEKD2v",
   "metadata": {
    "id": "pZb9b1IEKD2v"
   },
   "source": [
    "##### 6.3 Проверьте гипотезу о том, будет ли помесячная выручка от пользователей с подпиской по месяцам выше, чем выручка от пользователей без подписки."
   ]
  },
  {
   "cell_type": "markdown",
   "id": "BzJWZt1tOLMn",
   "metadata": {
    "id": "BzJWZt1tOLMn"
   },
   "source": [
    "H0: средняя помесячная выручка одинакова для пользователей и с подпиской, и без неё\n",
    "\n",
    "H1: средняя помесячная выручка выше у пользователей с подпиской выше, чем у пользователей без неё"
   ]
  },
  {
   "cell_type": "markdown",
   "id": "ec97c257",
   "metadata": {},
   "source": [
    "<div class=\"alert alert-success\">\n",
    "<b>✔️ Комментарий ревьюера v1:</b>\n",
    "<br>Гипотезы сформулированы верно\n",
    "</div>"
   ]
  },
  {
   "cell_type": "code",
   "execution_count": 36,
   "id": "C7K8EHR1KPds",
   "metadata": {
    "colab": {
     "base_uri": "https://localhost:8080/"
    },
    "id": "C7K8EHR1KPds",
    "outputId": "5a52dd12-aa12-42be-ee5e-55d4e819291d"
   },
   "outputs": [
    {
     "name": "stdout",
     "output_type": "stream",
     "text": [
      "Cредняя выручка для ultra:  358.59\n",
      "Cредняя выручка для free:  321.75\n",
      "p-value: 0.000\n",
      "p-value (неформатированный): 1.7274069878387966e-37\n"
     ]
    }
   ],
   "source": [
    "res = st.ttest_ind(a=agg_df[agg_df['subscription_type'] == 'ultra']['rev'],\n",
    "                   b=agg_df[agg_df['subscription_type'] == 'free']['rev'],\n",
    "                   alternative='greater')\n",
    "print('Cредняя выручка для ultra: ', round(agg_df[agg_df['subscription_type'] == 'ultra']['rev'].mean(), 2))\n",
    "print('Cредняя выручка для free: ', round(agg_df[agg_df['subscription_type'] == 'free']['rev'].mean(), 2))\n",
    "print(\"p-value: {:.3f}\".format(res.pvalue))\n",
    "print(f\"p-value (неформатированный): {res.pvalue}\")"
   ]
  },
  {
   "cell_type": "markdown",
   "id": "fd1a0013",
   "metadata": {},
   "source": [
    "<div class=\"alert alert-warning\">\n",
    "<b>⚠️ Комментарий ревьюера v1:</b> \n",
    "<br>Тут тоже форматировать вывод не стоит\n",
    "</div>"
   ]
  },
  {
   "cell_type": "markdown",
   "id": "4dd51038",
   "metadata": {},
   "source": [
    "<div class=\"alert alert-info\">\n",
    "<b>Комментарий студента:</b>\n",
    "<br>Добавил \n",
    "</div>"
   ]
  },
  {
   "cell_type": "markdown",
   "id": "MhP4Ode3PtPa",
   "metadata": {
    "id": "MhP4Ode3PtPa"
   },
   "source": [
    "p-value < $\\alpha$\n",
    "\n",
    "При любом уровне значимости H0 отвергается в пользу H1, таким образом, средняя помесячная выручка выше у пользователей с подпиской выше, чем у пользователей без неё"
   ]
  },
  {
   "cell_type": "markdown",
   "id": "PMVuAKDfQQ12",
   "metadata": {
    "id": "PMVuAKDfQQ12"
   },
   "source": [
    "##### 6.4 Представьте такую ситуацию: техническая команда сервиса обновила сервера, с которыми взаимодействует мобильное приложение.\n",
    "Она надеется, что из-за этого количество обращений в техподдержку значимо снизилось. Некоторый файл содержит для каждого пользователя данные о количестве обращений до обновления и после него. Какой тест вам понадобился бы для проверки этой гипотезы?"
   ]
  },
  {
   "cell_type": "markdown",
   "id": "_cJpKjPfQ9Xk",
   "metadata": {
    "id": "_cJpKjPfQ9Xk"
   },
   "source": [
    "Ответ: t-тест для парных выборок с левосторонней альтернативой"
   ]
  },
  {
   "cell_type": "markdown",
   "id": "c003a1ba",
   "metadata": {},
   "source": [
    "<div class=\"alert alert-success\">\n",
    "<b>✔️ Комментарий ревьюера v1:</b>\n",
    "<br>Метод выбран верно!\n",
    "</div>"
   ]
  },
  {
   "cell_type": "markdown",
   "id": "61213c5e",
   "metadata": {
    "id": "61213c5e"
   },
   "source": [
    "#### Шаг 7. Распределения"
   ]
  },
  {
   "cell_type": "markdown",
   "id": "auiX7a3IRV1-",
   "metadata": {
    "id": "auiX7a3IRV1-"
   },
   "source": [
    "7.1 Отделу маркетинга GoFast поставили задачу: нужно провести акцию с раздачей промокодов на один бесплатный месяц подписки, в рамках которой как минимум\n",
    "100 существующих клиентов должны продлить эту подписку.\n",
    "\n",
    "То есть по завершении периода действия подписки пользователь может либо отказаться от неё, либо продлить, совершив соответствующий платёж.\n",
    "\n",
    "Эта акция уже проводилась ранее и по итогу выяснилось, что после бесплатного пробного периода подписку продлевают\n",
    "10 % пользователей. Выясните, какое минимальное количество промокодов нужно разослать, чтобы вероятность не выполнить план была примерно\n",
    "5 %. Подберите параметры распределения, описывающего эту ситуацию, постройте график распределения и сформулируйте ответ на вопрос о количестве промокодов."
   ]
  },
  {
   "cell_type": "code",
   "execution_count": 37,
   "id": "V_MqL54GZz4F",
   "metadata": {
    "colab": {
     "base_uri": "https://localhost:8080/",
     "height": 564
    },
    "id": "V_MqL54GZz4F",
    "outputId": "7b2bbcaf-a593-4836-df7b-f45774a5cf65"
   },
   "outputs": [
    {
     "data": {
      "image/png": "[encoded data removed]",
      "text/plain": [
       "<Figure size 720x432 with 1 Axes>"
      ]
     },
     "metadata": {},
     "output_type": "display_data"
    }
   ],
   "source": [
    "from scipy.stats import binom\n",
    "\n",
    "p = 0.1  # вероятность продления подписки после получения промокода\n",
    "target_prob = 0.05  # минимальная вероятность невыполнения плана\n",
    "min_subscriptions = 100  # минимальное количество подписок\n",
    "\n",
    "def compute_failure_probability(n):\n",
    "    # min_subscriptions - 1 - количество клиентов, которые продлят подписку\n",
    "    # используется -1, потому что функция распределения возвращает вероятность того,\n",
    "    # что количество успехов будет меньше или равно указанному числу, а нам нужна вероятность меньше указанного числа\n",
    "    return 1 - binom.cdf(min_subscriptions - 1, n, p)\n",
    "\n",
    "# подбор минимального значения n\n",
    "n_values = np.arange(100, 1500)  # переберём значения от 100 до 1500 в цикле\n",
    "failure_probs = [compute_failure_probability(n) for n in n_values]\n",
    "\n",
    "min_n = None\n",
    "for i, prob in enumerate(failure_probs):\n",
    "    if prob >= target_prob:\n",
    "        min_n = n_values[i]\n",
    "        break\n",
    "\n",
    "plt.figure(figsize=(10, 6))\n",
    "plt.plot(n_values, failure_probs, label=\"Вероятность невыполнения плана\")\n",
    "\n",
    "plt.axvline(min_n, color='r', linestyle='--', label=f'Минимальное n = {min_n}')\n",
    "plt.xlabel(\"Количество промокодов\")\n",
    "plt.ylabel(\"Вероятность\")\n",
    "plt.title(\"Зависимость вероятности не выполнения плана от количества промокодов\")\n",
    "\n",
    "# закрасим область, где вероятность невыполнения плана менее 5%\n",
    "plt.fill_between(n_values, failure_probs, where=(np.array(failure_probs) <= target_prob), color='red', alpha=0.3)\n",
    "\n",
    "# элемент в легенду для обозначения области, где план будет невыполнен\n",
    "plt.legend([\"Вероятность не выполнения плана\", f'Минимальное количество промокодов = {min_n}', \"Вероятность невыполнения плана = 5%\"], loc='upper left')\n",
    "\n",
    "plt.grid(True)\n",
    "plt.show()"
   ]
  },
  {
   "cell_type": "markdown",
   "id": "UUickNSDVr3w",
   "metadata": {
    "id": "UUickNSDVr3w"
   },
   "source": [
    "Минимальное количество промокодов с вероятностью не выполнить план 5% - 850 шт."
   ]
  },
  {
   "cell_type": "markdown",
   "id": "b46bDL_eYM82",
   "metadata": {
    "id": "b46bDL_eYM82"
   },
   "source": [
    "7.2 Отдел маркетинга рассылает клиентам push-уведомления в мобильном приложении. Клиенты могут открыть его или не открывать. Известно, что уведомления открывают около 40 % получивших клиентов. Отдел планирует разослать 1 млн уведомлений. С помощью аппроксимации постройте примерный график распределения и оцените вероятность того, что уведомление откроют не более 399,5 тыс. пользователей."
   ]
  },
  {
   "cell_type": "markdown",
   "id": "DQ2Z44KabGby",
   "metadata": {
    "id": "DQ2Z44KabGby"
   },
   "source": [
    "В данном случае, биномиальное распределение можно аппроксимировать нормальным для повышения скорости вычисления"
   ]
  },
  {
   "cell_type": "code",
   "execution_count": 38,
   "id": "1koWsYh_a72d",
   "metadata": {
    "colab": {
     "base_uri": "https://localhost:8080/",
     "height": 581
    },
    "id": "1koWsYh_a72d",
    "outputId": "627d011f-23bc-4ccd-f10a-cc22b5d90d28"
   },
   "outputs": [
    {
     "name": "stdout",
     "output_type": "stream",
     "text": [
      "Вероятность открытия уведомления не более 399500 пользователями: 0.15\n"
     ]
    },
    {
     "data": {
      "image/png": "[encoded data removed]",
      "text/plain": [
       "<Figure size 720x432 with 1 Axes>"
      ]
     },
     "metadata": {},
     "output_type": "display_data"
    }
   ],
   "source": [
    "from scipy.stats import norm\n",
    "\n",
    "n = 1_000_000\n",
    "p = 0.4\n",
    "\n",
    "mu = n * p\n",
    "sigma = np.sqrt(n * p * (1 - p))\n",
    "\n",
    "param = 399500\n",
    "\n",
    "probability = norm.cdf(param, mu, sigma)\n",
    "print(\"Вероятность открытия уведомления не более\", param, \"пользователями:\", round(probability, 2))\n",
    "\n",
    "x = np.linspace(mu - 3*sigma, mu + 3*sigma, 100)\n",
    "y = norm.pdf(x, mu, sigma)\n",
    "\n",
    "plt.figure(figsize=(10, 6))\n",
    "plt.plot(x, y, '-', lw=2)\n",
    "plt.axvline(param, color='r', linestyle='--')\n",
    "plt.fill_between(x, y, where=(x <= param), color='red', alpha=0.2)\n",
    "plt.title('Аппроксимация нормальным распределением')\n",
    "plt.xlabel('Количество открытых уведомлений')\n",
    "plt.ylabel('Плотность вероятности')\n",
    "plt.grid(True)\n",
    "plt.show()"
   ]
  },
  {
   "cell_type": "markdown",
   "id": "75d7a89f",
   "metadata": {},
   "source": [
    "<div class=\"alert alert-success\">\n",
    "<b>✔️ Комментарий ревьюера v1:</b>\n",
    "<br>Дополнительное задание выполнено верно!\n",
    "</div>"
   ]
  },
  {
   "cell_type": "markdown",
   "id": "f679452b",
   "metadata": {},
   "source": [
    "<div class=\"alert alert-info\">\n",
    "<b>Комментарий студента:</b>\n",
    "<br>Можешь поделиться своим кодом/кодом Практикума для решения этих заданий. Уж очень интересно, как ещё можно было решить. Спасибо за проверку!\n",
    "</div>"
   ]
  },
  {
   "cell_type": "markdown",
   "id": "c06bf299",
   "metadata": {},
   "source": [
    "<div class=\"alert alert-success\">\n",
    "<b>✔️ Комментарий ревьюера v2:</b>\n",
    "<br>В первом задании я бы сделал так как ты, но только начал не со 100, а где-то с 500.\n",
    "    \n",
    "<br>Второе сделал бы так же как и ты)\n",
    "\n",
    "</div>"
   ]
  },
  {
   "cell_type": "markdown",
   "id": "611d76a2",
   "metadata": {},
   "source": [
    "**Общий вывод:**\n",
    "\n",
    "**Вывод по предобработке**\n",
    "- Изменен тип данных в столбце с датой\n",
    "- Пропуски отсутствуют во всех датафреймах\n",
    "- Удалены дубликаты в датафрейме `users`\n",
    "\n",
    "\n",
    "**Вывод по EDA**\n",
    "- По количеству пользователей лидирует Пятигорск, но, в целом, выборка достаточно сбалансированная\n",
    "- В выборке чуть больше пользователей с подпиской `free`\n",
    "- Возраст пользователей распределён практически нормально. Среднее значение - 25 лет\n",
    "- Есть два характерных типа поездок - короткие (до 1500 м) и более длинные (от 1500 м)\n",
    "    - Среднее расстояние для коротких поездок - около 700 м\n",
    "    - Среднее расстояние для более длинных поездок - около 3100 м\n",
    "- Распределение длительности поездок является нормальным.\n",
    "    - Средняя длительность поездки - около 18 минут\n",
    "    - Есть заметное число выбросов - поездок, которые длились меньше 2 минут. При этом минимальное расстояние поездки для них: 4000 м\n",
    "    \n",
    "**Вывод по проверке стат. гипотез**\n",
    "- Пользователи с подпиской тратят больше времени на поездки\n",
    "- Среднее расстояние поездки пользователей с подпиской не превышает 3130 м\n",
    "- Средняя помесячная выручка выше с пользователей с подпиской, чем с пользователей без неё\n",
    "\n",
    "**Ответ на основной вопрос исследования:** \"Являются ли подписчики более выгодными для компании?\"\n",
    "\n",
    "- Да, безусловно. Подписчики тратят больше времени на поездки, при этом средняя помесячная выручка с них больше"
   ]
  },
  {
   "cell_type": "markdown",
   "id": "734dd0c3",
   "metadata": {},
   "source": [
    "<div class=\"alert alert-danger\">\n",
    "<b>❌ Комментарий ревьюера v1:</b> \n",
    "<br>Обязательно нужно написать общий вывод после проделанной работы. Хорошей практикой является написание в общем выводе всех твоих действий (кратко) по проекту. А после этого нужно написать общий вывод использую информацию из промежуточных выводов после каждого раздела. В нашем исследовании основной вопрос это \"Являются ли подписчики более выгодными для компании?\"  Не забудь ответить на него\n",
    "</div>"
   ]
  },
  {
   "cell_type": "markdown",
   "id": "be88aa59",
   "metadata": {},
   "source": [
    "<div class=\"alert alert-success\">\n",
    "<b>✔️ Комментарий ревьюера v2:</b>\n",
    "<br>Правка выполнена 👍 Не забывай писать общий вывод в конце каждого проекта\n",
    "</div>"
   ]
  },
  {
   "cell_type": "markdown",
   "id": "2916827f",
   "metadata": {},
   "source": [
    "<div class=\"alert alert-danger\">\n",
    "<b>❌ Итоговый комментарий ревьюера v1:</b> \n",
    "<br>Необходимо поправить:\n",
    "<br>- добавить описание задачи в начале проекта\n",
    "<br>- проверить наличие вывода после каждого раздела\n",
    "<br>- отобразить долю каждой группы пользователей\n",
    "<br>- провести округление до агрегации по месяцам\n",
    "<br>- написать общий вывод\n",
    "\n",
    "<br>После всех внесённых правок не забудь поправить выводы там, где это необходимо\n",
    "</div>"
   ]
  },
  {
   "cell_type": "markdown",
   "id": "99220c6e",
   "metadata": {},
   "source": [
    "<div class=\"alert alert-success\">\n",
    "<b>✔️ Итоговый комментарий ревьюера v2:</b>\n",
    "<br>Все правки выполнены. Молодец!\n",
    "<br>Я рад был поработать над проверкой твоей работы) В качестве дополнительного материала для изучения могу порекомендовать следующие материалы:\n",
    "\n",
    "    Курс \"Вероятность и статистика\" | Глеб Михайлов (free): https://www.youtube.com/playlist?list=PLQJ7ptkRY-xbHLLI66KdscKp_FJt0FsIi\n",
    "\n",
    "    Методы обнаружения выбросов: https://youtu.be/TOK7Kq7x0yc\n",
    "\n",
    "<br>Поздравляю со сдачей проекта и желаю удачи в дальнейшем обучении! 😉    \n",
    "</div>"
   ]
  }
 ],
 "metadata": {
  "ExecuteTimeLog": [
   {
    "duration": 406,
    "start_time": "2024-04-09T05:40:41.859Z"
   },
   {
    "duration": 461,
    "start_time": "2024-04-09T05:42:08.796Z"
   },
   {
    "duration": 1270,
    "start_time": "2024-04-09T20:39:49.856Z"
   },
   {
    "duration": 3,
    "start_time": "2024-04-09T20:39:51.128Z"
   },
   {
    "duration": 17,
    "start_time": "2024-04-09T20:39:51.133Z"
   },
   {
    "duration": 251,
    "start_time": "2024-04-09T20:39:51.151Z"
   },
   {
    "duration": 28,
    "start_time": "2024-04-09T20:39:51.404Z"
   },
   {
    "duration": 17,
    "start_time": "2024-04-09T20:39:51.434Z"
   },
   {
    "duration": 14,
    "start_time": "2024-04-09T20:39:51.453Z"
   },
   {
    "duration": 21,
    "start_time": "2024-04-09T20:39:51.468Z"
   },
   {
    "duration": 22,
    "start_time": "2024-04-09T20:39:51.490Z"
   },
   {
    "duration": 17,
    "start_time": "2024-04-09T20:39:51.515Z"
   },
   {
    "duration": 18,
    "start_time": "2024-04-09T20:39:51.533Z"
   },
   {
    "duration": 8,
    "start_time": "2024-04-09T20:39:51.552Z"
   },
   {
    "duration": 4,
    "start_time": "2024-04-09T20:39:51.562Z"
   },
   {
    "duration": 19,
    "start_time": "2024-04-09T20:39:51.568Z"
   },
   {
    "duration": 9,
    "start_time": "2024-04-09T20:39:51.588Z"
   },
   {
    "duration": 6,
    "start_time": "2024-04-09T20:39:51.598Z"
   },
   {
    "duration": 127,
    "start_time": "2024-04-09T20:39:51.606Z"
   },
   {
    "duration": 0,
    "start_time": "2024-04-09T20:39:51.735Z"
   },
   {
    "duration": 0,
    "start_time": "2024-04-09T20:39:51.736Z"
   },
   {
    "duration": 0,
    "start_time": "2024-04-09T20:39:51.738Z"
   },
   {
    "duration": 0,
    "start_time": "2024-04-09T20:39:51.739Z"
   },
   {
    "duration": 0,
    "start_time": "2024-04-09T20:39:51.740Z"
   },
   {
    "duration": 0,
    "start_time": "2024-04-09T20:39:51.741Z"
   },
   {
    "duration": 0,
    "start_time": "2024-04-09T20:39:51.742Z"
   },
   {
    "duration": 0,
    "start_time": "2024-04-09T20:39:51.743Z"
   },
   {
    "duration": 0,
    "start_time": "2024-04-09T20:39:51.744Z"
   },
   {
    "duration": 0,
    "start_time": "2024-04-09T20:39:51.745Z"
   },
   {
    "duration": 0,
    "start_time": "2024-04-09T20:39:51.746Z"
   },
   {
    "duration": 0,
    "start_time": "2024-04-09T20:39:51.747Z"
   },
   {
    "duration": 0,
    "start_time": "2024-04-09T20:39:51.748Z"
   },
   {
    "duration": 0,
    "start_time": "2024-04-09T20:39:51.749Z"
   },
   {
    "duration": 0,
    "start_time": "2024-04-09T20:39:51.750Z"
   },
   {
    "duration": 0,
    "start_time": "2024-04-09T20:39:51.751Z"
   },
   {
    "duration": 0,
    "start_time": "2024-04-09T20:39:51.752Z"
   },
   {
    "duration": 57,
    "start_time": "2024-04-10T04:50:41.482Z"
   },
   {
    "duration": 1383,
    "start_time": "2024-04-10T04:50:46.453Z"
   },
   {
    "duration": 3,
    "start_time": "2024-04-10T04:50:47.838Z"
   },
   {
    "duration": 22,
    "start_time": "2024-04-10T04:50:47.842Z"
   },
   {
    "duration": 175,
    "start_time": "2024-04-10T04:50:47.865Z"
   },
   {
    "duration": 20,
    "start_time": "2024-04-10T04:50:48.042Z"
   },
   {
    "duration": 16,
    "start_time": "2024-04-10T04:50:48.064Z"
   },
   {
    "duration": 14,
    "start_time": "2024-04-10T04:50:48.082Z"
   },
   {
    "duration": 14,
    "start_time": "2024-04-10T04:50:48.098Z"
   },
   {
    "duration": 10,
    "start_time": "2024-04-10T04:50:48.114Z"
   },
   {
    "duration": 21,
    "start_time": "2024-04-10T04:50:48.126Z"
   },
   {
    "duration": 32,
    "start_time": "2024-04-10T04:50:48.149Z"
   },
   {
    "duration": 5,
    "start_time": "2024-04-10T04:50:48.183Z"
   },
   {
    "duration": 5,
    "start_time": "2024-04-10T04:50:48.190Z"
   },
   {
    "duration": 20,
    "start_time": "2024-04-10T04:50:48.198Z"
   },
   {
    "duration": 8,
    "start_time": "2024-04-10T04:50:48.220Z"
   },
   {
    "duration": 7,
    "start_time": "2024-04-10T04:50:48.229Z"
   },
   {
    "duration": 9,
    "start_time": "2024-04-10T04:50:49.747Z"
   },
   {
    "duration": 197,
    "start_time": "2024-04-10T04:51:12.316Z"
   },
   {
    "duration": 278,
    "start_time": "2024-04-10T04:52:04.476Z"
   },
   {
    "duration": 186,
    "start_time": "2024-04-10T04:52:11.383Z"
   },
   {
    "duration": 182,
    "start_time": "2024-04-10T04:52:19.798Z"
   },
   {
    "duration": 9,
    "start_time": "2024-04-10T04:52:54.289Z"
   },
   {
    "duration": 1188,
    "start_time": "2024-04-10T04:53:10.807Z"
   },
   {
    "duration": 2,
    "start_time": "2024-04-10T04:53:11.997Z"
   },
   {
    "duration": 5,
    "start_time": "2024-04-10T04:53:12.001Z"
   },
   {
    "duration": 185,
    "start_time": "2024-04-10T04:53:12.008Z"
   },
   {
    "duration": 21,
    "start_time": "2024-04-10T04:53:12.195Z"
   },
   {
    "duration": 17,
    "start_time": "2024-04-10T04:53:12.217Z"
   },
   {
    "duration": 14,
    "start_time": "2024-04-10T04:53:12.235Z"
   },
   {
    "duration": 37,
    "start_time": "2024-04-10T04:53:12.250Z"
   },
   {
    "duration": 18,
    "start_time": "2024-04-10T04:53:12.289Z"
   },
   {
    "duration": 21,
    "start_time": "2024-04-10T04:53:12.309Z"
   },
   {
    "duration": 13,
    "start_time": "2024-04-10T04:53:12.331Z"
   },
   {
    "duration": 7,
    "start_time": "2024-04-10T04:53:12.346Z"
   },
   {
    "duration": 9,
    "start_time": "2024-04-10T04:53:12.355Z"
   },
   {
    "duration": 10,
    "start_time": "2024-04-10T04:53:12.383Z"
   },
   {
    "duration": 27,
    "start_time": "2024-04-10T04:53:12.394Z"
   },
   {
    "duration": 11,
    "start_time": "2024-04-10T04:53:12.423Z"
   },
   {
    "duration": 275,
    "start_time": "2024-04-10T04:53:12.436Z"
   },
   {
    "duration": 1328,
    "start_time": "2024-04-10T04:53:12.713Z"
   },
   {
    "duration": 0,
    "start_time": "2024-04-10T04:53:14.043Z"
   },
   {
    "duration": 0,
    "start_time": "2024-04-10T04:53:14.044Z"
   },
   {
    "duration": 0,
    "start_time": "2024-04-10T04:53:14.045Z"
   },
   {
    "duration": 0,
    "start_time": "2024-04-10T04:53:14.046Z"
   },
   {
    "duration": 0,
    "start_time": "2024-04-10T04:53:14.047Z"
   },
   {
    "duration": 0,
    "start_time": "2024-04-10T04:53:14.048Z"
   },
   {
    "duration": 0,
    "start_time": "2024-04-10T04:53:14.049Z"
   },
   {
    "duration": 0,
    "start_time": "2024-04-10T04:53:14.050Z"
   },
   {
    "duration": 0,
    "start_time": "2024-04-10T04:53:14.051Z"
   },
   {
    "duration": 0,
    "start_time": "2024-04-10T04:53:14.052Z"
   },
   {
    "duration": 0,
    "start_time": "2024-04-10T04:53:14.053Z"
   },
   {
    "duration": 1,
    "start_time": "2024-04-10T04:53:14.053Z"
   },
   {
    "duration": 0,
    "start_time": "2024-04-10T04:53:14.055Z"
   },
   {
    "duration": 0,
    "start_time": "2024-04-10T04:53:14.056Z"
   },
   {
    "duration": 0,
    "start_time": "2024-04-10T04:53:14.057Z"
   },
   {
    "duration": 0,
    "start_time": "2024-04-10T04:53:14.058Z"
   },
   {
    "duration": 13,
    "start_time": "2024-04-10T04:53:36.680Z"
   },
   {
    "duration": 29,
    "start_time": "2024-04-10T04:53:46.955Z"
   },
   {
    "duration": 12,
    "start_time": "2024-04-10T04:53:59.132Z"
   },
   {
    "duration": 13,
    "start_time": "2024-04-10T04:54:54.962Z"
   },
   {
    "duration": 1269,
    "start_time": "2024-04-10T04:55:03.978Z"
   },
   {
    "duration": 4,
    "start_time": "2024-04-10T04:55:05.249Z"
   },
   {
    "duration": 4,
    "start_time": "2024-04-10T04:55:05.254Z"
   },
   {
    "duration": 156,
    "start_time": "2024-04-10T04:55:05.259Z"
   },
   {
    "duration": 21,
    "start_time": "2024-04-10T04:55:05.418Z"
   },
   {
    "duration": 18,
    "start_time": "2024-04-10T04:55:05.441Z"
   },
   {
    "duration": 19,
    "start_time": "2024-04-10T04:55:05.461Z"
   },
   {
    "duration": 45,
    "start_time": "2024-04-10T04:55:05.482Z"
   },
   {
    "duration": 25,
    "start_time": "2024-04-10T04:55:05.529Z"
   },
   {
    "duration": 11,
    "start_time": "2024-04-10T04:55:05.555Z"
   },
   {
    "duration": 13,
    "start_time": "2024-04-10T04:55:05.567Z"
   },
   {
    "duration": 6,
    "start_time": "2024-04-10T04:55:05.583Z"
   },
   {
    "duration": 8,
    "start_time": "2024-04-10T04:55:05.591Z"
   },
   {
    "duration": 22,
    "start_time": "2024-04-10T04:55:05.602Z"
   },
   {
    "duration": 8,
    "start_time": "2024-04-10T04:55:05.626Z"
   },
   {
    "duration": 8,
    "start_time": "2024-04-10T04:55:05.637Z"
   },
   {
    "duration": 220,
    "start_time": "2024-04-10T04:55:05.647Z"
   },
   {
    "duration": 19,
    "start_time": "2024-04-10T04:55:05.869Z"
   },
   {
    "duration": 262,
    "start_time": "2024-04-10T04:55:05.890Z"
   },
   {
    "duration": 580,
    "start_time": "2024-04-10T04:55:06.153Z"
   },
   {
    "duration": 566,
    "start_time": "2024-04-10T04:55:06.736Z"
   },
   {
    "duration": 256,
    "start_time": "2024-04-10T04:55:07.304Z"
   },
   {
    "duration": 290,
    "start_time": "2024-04-10T04:55:07.562Z"
   },
   {
    "duration": 40,
    "start_time": "2024-04-10T04:55:07.854Z"
   },
   {
    "duration": 14,
    "start_time": "2024-04-10T04:55:07.895Z"
   },
   {
    "duration": 1262,
    "start_time": "2024-04-10T04:55:07.912Z"
   },
   {
    "duration": 50,
    "start_time": "2024-04-10T04:55:09.176Z"
   },
   {
    "duration": 4,
    "start_time": "2024-04-10T04:55:09.228Z"
   },
   {
    "duration": 6,
    "start_time": "2024-04-10T04:55:09.233Z"
   },
   {
    "duration": 39,
    "start_time": "2024-04-10T04:55:09.241Z"
   },
   {
    "duration": 7,
    "start_time": "2024-04-10T04:55:09.283Z"
   },
   {
    "duration": 15,
    "start_time": "2024-04-10T04:55:09.291Z"
   },
   {
    "duration": 616,
    "start_time": "2024-04-10T04:55:09.307Z"
   },
   {
    "duration": 358,
    "start_time": "2024-04-10T04:55:09.926Z"
   },
   {
    "duration": 1328,
    "start_time": "2024-04-10T04:59:01.043Z"
   },
   {
    "duration": 4,
    "start_time": "2024-04-10T04:59:02.373Z"
   },
   {
    "duration": 39,
    "start_time": "2024-04-10T04:59:02.380Z"
   },
   {
    "duration": 190,
    "start_time": "2024-04-10T04:59:02.421Z"
   },
   {
    "duration": 32,
    "start_time": "2024-04-10T04:59:02.614Z"
   },
   {
    "duration": 27,
    "start_time": "2024-04-10T04:59:02.648Z"
   },
   {
    "duration": 17,
    "start_time": "2024-04-10T04:59:02.677Z"
   },
   {
    "duration": 29,
    "start_time": "2024-04-10T04:59:02.696Z"
   },
   {
    "duration": 26,
    "start_time": "2024-04-10T04:59:02.726Z"
   },
   {
    "duration": 19,
    "start_time": "2024-04-10T04:59:02.754Z"
   },
   {
    "duration": 40,
    "start_time": "2024-04-10T04:59:02.774Z"
   },
   {
    "duration": 31,
    "start_time": "2024-04-10T04:59:02.815Z"
   },
   {
    "duration": 48,
    "start_time": "2024-04-10T04:59:02.848Z"
   },
   {
    "duration": 131,
    "start_time": "2024-04-10T04:59:02.899Z"
   },
   {
    "duration": 96,
    "start_time": "2024-04-10T04:59:03.031Z"
   },
   {
    "duration": 55,
    "start_time": "2024-04-10T04:59:03.129Z"
   },
   {
    "duration": 215,
    "start_time": "2024-04-10T04:59:03.185Z"
   },
   {
    "duration": 13,
    "start_time": "2024-04-10T04:59:03.401Z"
   },
   {
    "duration": 275,
    "start_time": "2024-04-10T04:59:03.415Z"
   },
   {
    "duration": 588,
    "start_time": "2024-04-10T04:59:03.692Z"
   },
   {
    "duration": 587,
    "start_time": "2024-04-10T04:59:04.282Z"
   },
   {
    "duration": 229,
    "start_time": "2024-04-10T04:59:04.871Z"
   },
   {
    "duration": 236,
    "start_time": "2024-04-10T04:59:05.103Z"
   },
   {
    "duration": 27,
    "start_time": "2024-04-10T04:59:05.340Z"
   },
   {
    "duration": 19,
    "start_time": "2024-04-10T04:59:05.369Z"
   },
   {
    "duration": 1042,
    "start_time": "2024-04-10T04:59:05.389Z"
   },
   {
    "duration": 57,
    "start_time": "2024-04-10T04:59:06.433Z"
   },
   {
    "duration": 4,
    "start_time": "2024-04-10T04:59:06.492Z"
   },
   {
    "duration": 21,
    "start_time": "2024-04-10T04:59:06.498Z"
   },
   {
    "duration": 10,
    "start_time": "2024-04-10T04:59:06.521Z"
   },
   {
    "duration": 6,
    "start_time": "2024-04-10T04:59:06.534Z"
   },
   {
    "duration": 17,
    "start_time": "2024-04-10T04:59:06.542Z"
   },
   {
    "duration": 597,
    "start_time": "2024-04-10T04:59:06.561Z"
   },
   {
    "duration": 360,
    "start_time": "2024-04-10T04:59:07.160Z"
   },
   {
    "duration": 1299,
    "start_time": "2024-04-10T05:00:53.611Z"
   },
   {
    "duration": 3,
    "start_time": "2024-04-10T05:00:54.912Z"
   },
   {
    "duration": 6,
    "start_time": "2024-04-10T05:00:54.917Z"
   },
   {
    "duration": 296,
    "start_time": "2024-04-10T05:00:54.924Z"
   },
   {
    "duration": 23,
    "start_time": "2024-04-10T05:00:55.222Z"
   },
   {
    "duration": 22,
    "start_time": "2024-04-10T05:00:55.247Z"
   },
   {
    "duration": 20,
    "start_time": "2024-04-10T05:00:55.271Z"
   },
   {
    "duration": 22,
    "start_time": "2024-04-10T05:00:55.292Z"
   },
   {
    "duration": 20,
    "start_time": "2024-04-10T05:00:55.315Z"
   },
   {
    "duration": 17,
    "start_time": "2024-04-10T05:00:55.338Z"
   },
   {
    "duration": 12,
    "start_time": "2024-04-10T05:00:55.357Z"
   },
   {
    "duration": 13,
    "start_time": "2024-04-10T05:00:55.371Z"
   },
   {
    "duration": 5,
    "start_time": "2024-04-10T05:00:55.386Z"
   },
   {
    "duration": 8,
    "start_time": "2024-04-10T05:00:55.394Z"
   },
   {
    "duration": 5,
    "start_time": "2024-04-10T05:00:55.404Z"
   },
   {
    "duration": 11,
    "start_time": "2024-04-10T05:00:55.411Z"
   },
   {
    "duration": 261,
    "start_time": "2024-04-10T05:00:55.425Z"
   },
   {
    "duration": 13,
    "start_time": "2024-04-10T05:00:55.687Z"
   },
   {
    "duration": 280,
    "start_time": "2024-04-10T05:00:55.702Z"
   },
   {
    "duration": 499,
    "start_time": "2024-04-10T05:00:55.984Z"
   },
   {
    "duration": 597,
    "start_time": "2024-04-10T05:00:56.485Z"
   },
   {
    "duration": 249,
    "start_time": "2024-04-10T05:00:57.083Z"
   },
   {
    "duration": 253,
    "start_time": "2024-04-10T05:00:57.334Z"
   },
   {
    "duration": 29,
    "start_time": "2024-04-10T05:00:57.589Z"
   },
   {
    "duration": 70,
    "start_time": "2024-04-10T05:00:57.620Z"
   },
   {
    "duration": 1202,
    "start_time": "2024-04-10T05:00:57.692Z"
   },
   {
    "duration": 50,
    "start_time": "2024-04-10T05:00:58.895Z"
   },
   {
    "duration": 3,
    "start_time": "2024-04-10T05:00:58.947Z"
   },
   {
    "duration": 32,
    "start_time": "2024-04-10T05:00:58.952Z"
   },
   {
    "duration": 10,
    "start_time": "2024-04-10T05:00:58.985Z"
   },
   {
    "duration": 6,
    "start_time": "2024-04-10T05:00:58.997Z"
   },
   {
    "duration": 29,
    "start_time": "2024-04-10T05:00:59.004Z"
   },
   {
    "duration": 599,
    "start_time": "2024-04-10T05:00:59.035Z"
   },
   {
    "duration": 339,
    "start_time": "2024-04-10T05:00:59.636Z"
   },
   {
    "duration": 1180,
    "start_time": "2024-04-10T05:42:25.139Z"
   },
   {
    "duration": 2,
    "start_time": "2024-04-10T05:42:26.321Z"
   },
   {
    "duration": 8,
    "start_time": "2024-04-10T05:42:26.324Z"
   },
   {
    "duration": 212,
    "start_time": "2024-04-10T05:42:26.333Z"
   },
   {
    "duration": 19,
    "start_time": "2024-04-10T05:42:26.547Z"
   },
   {
    "duration": 17,
    "start_time": "2024-04-10T05:42:26.567Z"
   },
   {
    "duration": 14,
    "start_time": "2024-04-10T05:42:26.585Z"
   },
   {
    "duration": 12,
    "start_time": "2024-04-10T05:42:26.601Z"
   },
   {
    "duration": 13,
    "start_time": "2024-04-10T05:42:26.615Z"
   },
   {
    "duration": 10,
    "start_time": "2024-04-10T05:42:26.661Z"
   },
   {
    "duration": 8,
    "start_time": "2024-04-10T05:42:26.673Z"
   },
   {
    "duration": 6,
    "start_time": "2024-04-10T05:42:26.683Z"
   },
   {
    "duration": 4,
    "start_time": "2024-04-10T05:42:26.691Z"
   },
   {
    "duration": 11,
    "start_time": "2024-04-10T05:42:26.696Z"
   },
   {
    "duration": 4,
    "start_time": "2024-04-10T05:42:26.709Z"
   },
   {
    "duration": 7,
    "start_time": "2024-04-10T05:42:26.715Z"
   },
   {
    "duration": 181,
    "start_time": "2024-04-10T05:42:26.759Z"
   },
   {
    "duration": 19,
    "start_time": "2024-04-10T05:42:26.941Z"
   },
   {
    "duration": 213,
    "start_time": "2024-04-10T05:42:26.961Z"
   },
   {
    "duration": 453,
    "start_time": "2024-04-10T05:42:27.176Z"
   },
   {
    "duration": 491,
    "start_time": "2024-04-10T05:42:27.630Z"
   },
   {
    "duration": 186,
    "start_time": "2024-04-10T05:42:28.122Z"
   },
   {
    "duration": 194,
    "start_time": "2024-04-10T05:42:28.310Z"
   },
   {
    "duration": 22,
    "start_time": "2024-04-10T05:42:28.505Z"
   },
   {
    "duration": 9,
    "start_time": "2024-04-10T05:42:28.528Z"
   },
   {
    "duration": 958,
    "start_time": "2024-04-10T05:42:28.558Z"
   },
   {
    "duration": 53,
    "start_time": "2024-04-10T05:42:29.517Z"
   },
   {
    "duration": 4,
    "start_time": "2024-04-10T05:42:29.572Z"
   },
   {
    "duration": 5,
    "start_time": "2024-04-10T05:42:29.577Z"
   },
   {
    "duration": 23,
    "start_time": "2024-04-10T05:42:29.583Z"
   },
   {
    "duration": 7,
    "start_time": "2024-04-10T05:42:29.608Z"
   },
   {
    "duration": 12,
    "start_time": "2024-04-10T05:42:29.617Z"
   },
   {
    "duration": 473,
    "start_time": "2024-04-10T05:42:29.631Z"
   },
   {
    "duration": 288,
    "start_time": "2024-04-10T05:42:30.106Z"
   },
   {
    "duration": 29,
    "start_time": "2024-04-10T05:49:00.512Z"
   },
   {
    "duration": 16,
    "start_time": "2024-04-10T05:49:58.437Z"
   },
   {
    "duration": 9,
    "start_time": "2024-04-10T05:50:07.909Z"
   },
   {
    "duration": 1148,
    "start_time": "2024-04-11T06:26:23.707Z"
   },
   {
    "duration": 3,
    "start_time": "2024-04-11T06:26:24.857Z"
   },
   {
    "duration": 19,
    "start_time": "2024-04-11T06:26:24.861Z"
   },
   {
    "duration": 200,
    "start_time": "2024-04-11T06:26:24.882Z"
   },
   {
    "duration": 16,
    "start_time": "2024-04-11T06:26:25.084Z"
   },
   {
    "duration": 42,
    "start_time": "2024-04-11T06:26:25.101Z"
   },
   {
    "duration": 23,
    "start_time": "2024-04-11T06:26:25.144Z"
   },
   {
    "duration": 14,
    "start_time": "2024-04-11T06:26:25.168Z"
   },
   {
    "duration": 14,
    "start_time": "2024-04-11T06:26:25.183Z"
   },
   {
    "duration": 9,
    "start_time": "2024-04-11T06:26:25.198Z"
   },
   {
    "duration": 25,
    "start_time": "2024-04-11T06:26:25.209Z"
   },
   {
    "duration": 4,
    "start_time": "2024-04-11T06:26:25.235Z"
   },
   {
    "duration": 6,
    "start_time": "2024-04-11T06:26:25.240Z"
   },
   {
    "duration": 16,
    "start_time": "2024-04-11T06:26:25.248Z"
   },
   {
    "duration": 7,
    "start_time": "2024-04-11T06:26:25.265Z"
   },
   {
    "duration": 8,
    "start_time": "2024-04-11T06:26:25.273Z"
   },
   {
    "duration": 156,
    "start_time": "2024-04-11T06:26:25.282Z"
   },
   {
    "duration": 9,
    "start_time": "2024-04-11T06:26:25.439Z"
   },
   {
    "duration": 190,
    "start_time": "2024-04-11T06:26:25.449Z"
   },
   {
    "duration": 473,
    "start_time": "2024-04-11T06:26:25.641Z"
   },
   {
    "duration": 392,
    "start_time": "2024-04-11T06:26:26.115Z"
   },
   {
    "duration": 160,
    "start_time": "2024-04-11T06:26:26.508Z"
   },
   {
    "duration": 224,
    "start_time": "2024-04-11T06:26:26.670Z"
   },
   {
    "duration": 22,
    "start_time": "2024-04-11T06:26:26.895Z"
   },
   {
    "duration": 9,
    "start_time": "2024-04-11T06:26:26.918Z"
   },
   {
    "duration": 759,
    "start_time": "2024-04-11T06:26:26.928Z"
   },
   {
    "duration": 41,
    "start_time": "2024-04-11T06:26:27.689Z"
   },
   {
    "duration": 3,
    "start_time": "2024-04-11T06:26:27.731Z"
   },
   {
    "duration": 7,
    "start_time": "2024-04-11T06:26:27.735Z"
   },
   {
    "duration": 8,
    "start_time": "2024-04-11T06:26:27.745Z"
   },
   {
    "duration": 5,
    "start_time": "2024-04-11T06:27:22.828Z"
   },
   {
    "duration": 53,
    "start_time": "2024-04-11T13:28:58.319Z"
   },
   {
    "duration": 1444,
    "start_time": "2024-04-11T13:29:03.078Z"
   },
   {
    "duration": 3,
    "start_time": "2024-04-11T13:29:04.524Z"
   },
   {
    "duration": 19,
    "start_time": "2024-04-11T13:29:04.529Z"
   },
   {
    "duration": 326,
    "start_time": "2024-04-11T13:29:04.550Z"
   },
   {
    "duration": 20,
    "start_time": "2024-04-11T13:29:04.877Z"
   },
   {
    "duration": 46,
    "start_time": "2024-04-11T13:29:04.899Z"
   },
   {
    "duration": 14,
    "start_time": "2024-04-11T13:29:04.947Z"
   },
   {
    "duration": 24,
    "start_time": "2024-04-11T13:29:04.963Z"
   },
   {
    "duration": 13,
    "start_time": "2024-04-11T13:29:04.988Z"
   },
   {
    "duration": 16,
    "start_time": "2024-04-11T13:29:05.003Z"
   },
   {
    "duration": 9,
    "start_time": "2024-04-11T13:29:05.021Z"
   },
   {
    "duration": 5,
    "start_time": "2024-04-11T13:29:05.031Z"
   },
   {
    "duration": 11,
    "start_time": "2024-04-11T13:29:05.037Z"
   },
   {
    "duration": 8,
    "start_time": "2024-04-11T13:29:05.081Z"
   },
   {
    "duration": 7,
    "start_time": "2024-04-11T13:29:05.090Z"
   },
   {
    "duration": 25,
    "start_time": "2024-04-11T13:29:05.098Z"
   },
   {
    "duration": 216,
    "start_time": "2024-04-11T13:29:05.125Z"
   },
   {
    "duration": 11,
    "start_time": "2024-04-11T13:29:05.343Z"
   },
   {
    "duration": 96,
    "start_time": "2024-04-11T13:29:06.786Z"
   },
   {
    "duration": 89,
    "start_time": "2024-04-11T13:29:20.072Z"
   },
   {
    "duration": 89,
    "start_time": "2024-04-11T13:29:29.490Z"
   },
   {
    "duration": 78,
    "start_time": "2024-04-11T13:29:48.382Z"
   },
   {
    "duration": 100,
    "start_time": "2024-04-11T13:29:53.909Z"
   },
   {
    "duration": 84,
    "start_time": "2024-04-11T13:30:20.777Z"
   },
   {
    "duration": 78,
    "start_time": "2024-04-11T13:31:13.840Z"
   },
   {
    "duration": 11,
    "start_time": "2024-04-11T13:31:18.746Z"
   },
   {
    "duration": 13,
    "start_time": "2024-04-11T13:31:29.852Z"
   },
   {
    "duration": 9,
    "start_time": "2024-04-11T13:33:06.135Z"
   },
   {
    "duration": 26,
    "start_time": "2024-04-11T13:33:10.797Z"
   },
   {
    "duration": 11,
    "start_time": "2024-04-11T13:33:11.949Z"
   },
   {
    "duration": 3,
    "start_time": "2024-04-11T13:33:13.007Z"
   },
   {
    "duration": 3,
    "start_time": "2024-04-11T13:35:09.659Z"
   },
   {
    "duration": 9,
    "start_time": "2024-04-11T13:35:13.889Z"
   },
   {
    "duration": 3,
    "start_time": "2024-04-11T13:35:16.339Z"
   },
   {
    "duration": 4,
    "start_time": "2024-04-11T13:35:58.053Z"
   },
   {
    "duration": 4,
    "start_time": "2024-04-11T13:36:02.431Z"
   },
   {
    "duration": 17,
    "start_time": "2024-04-11T13:42:16.557Z"
   },
   {
    "duration": 17,
    "start_time": "2024-04-11T13:42:56.858Z"
   },
   {
    "duration": 94,
    "start_time": "2024-04-11T13:45:20.962Z"
   },
   {
    "duration": 19,
    "start_time": "2024-04-11T13:46:12.731Z"
   },
   {
    "duration": 6,
    "start_time": "2024-04-11T13:46:53.749Z"
   },
   {
    "duration": 3,
    "start_time": "2024-04-11T13:46:58.074Z"
   },
   {
    "duration": 52,
    "start_time": "2024-04-11T13:47:07.756Z"
   },
   {
    "duration": 6,
    "start_time": "2024-04-11T13:48:39.203Z"
   },
   {
    "duration": 7,
    "start_time": "2024-04-11T13:49:21.713Z"
   },
   {
    "duration": 7,
    "start_time": "2024-04-11T13:49:30.273Z"
   },
   {
    "duration": 769,
    "start_time": "2024-04-11T13:49:55.293Z"
   },
   {
    "duration": 1217,
    "start_time": "2024-04-11T13:58:07.593Z"
   },
   {
    "duration": 3,
    "start_time": "2024-04-11T13:58:08.811Z"
   },
   {
    "duration": 11,
    "start_time": "2024-04-11T13:58:08.819Z"
   },
   {
    "duration": 172,
    "start_time": "2024-04-11T13:58:08.832Z"
   },
   {
    "duration": 20,
    "start_time": "2024-04-11T13:58:09.006Z"
   },
   {
    "duration": 18,
    "start_time": "2024-04-11T13:58:09.027Z"
   },
   {
    "duration": 15,
    "start_time": "2024-04-11T13:58:09.046Z"
   },
   {
    "duration": 27,
    "start_time": "2024-04-11T13:58:09.063Z"
   },
   {
    "duration": 15,
    "start_time": "2024-04-11T13:58:09.093Z"
   },
   {
    "duration": 13,
    "start_time": "2024-04-11T13:58:09.110Z"
   },
   {
    "duration": 16,
    "start_time": "2024-04-11T13:58:09.124Z"
   },
   {
    "duration": 21,
    "start_time": "2024-04-11T13:58:09.142Z"
   },
   {
    "duration": 6,
    "start_time": "2024-04-11T13:58:09.181Z"
   },
   {
    "duration": 25,
    "start_time": "2024-04-11T13:58:09.189Z"
   },
   {
    "duration": 12,
    "start_time": "2024-04-11T13:58:09.216Z"
   },
   {
    "duration": 12,
    "start_time": "2024-04-11T13:58:09.230Z"
   },
   {
    "duration": 227,
    "start_time": "2024-04-11T13:58:09.244Z"
   },
   {
    "duration": 17,
    "start_time": "2024-04-11T13:58:09.474Z"
   },
   {
    "duration": 133,
    "start_time": "2024-04-11T13:58:09.493Z"
   },
   {
    "duration": 260,
    "start_time": "2024-04-11T13:58:09.628Z"
   },
   {
    "duration": 10,
    "start_time": "2024-04-11T13:58:09.890Z"
   },
   {
    "duration": 557,
    "start_time": "2024-04-11T13:58:09.902Z"
   },
   {
    "duration": 529,
    "start_time": "2024-04-11T13:58:10.460Z"
   },
   {
    "duration": 316,
    "start_time": "2024-04-11T13:58:10.991Z"
   },
   {
    "duration": 302,
    "start_time": "2024-04-11T13:58:11.309Z"
   },
   {
    "duration": 23,
    "start_time": "2024-04-11T13:58:11.613Z"
   },
   {
    "duration": 10,
    "start_time": "2024-04-11T13:58:11.639Z"
   },
   {
    "duration": 34,
    "start_time": "2024-04-11T13:58:11.650Z"
   },
   {
    "duration": 1056,
    "start_time": "2024-04-11T13:58:11.685Z"
   },
   {
    "duration": 4,
    "start_time": "2024-04-11T13:58:12.743Z"
   },
   {
    "duration": 73,
    "start_time": "2024-04-11T13:58:12.749Z"
   },
   {
    "duration": 3,
    "start_time": "2024-04-11T13:58:12.824Z"
   },
   {
    "duration": 8,
    "start_time": "2024-04-11T13:58:12.828Z"
   },
   {
    "duration": 9,
    "start_time": "2024-04-11T13:58:12.838Z"
   },
   {
    "duration": 10,
    "start_time": "2024-04-11T13:58:12.848Z"
   },
   {
    "duration": 34,
    "start_time": "2024-04-11T13:58:12.859Z"
   },
   {
    "duration": 545,
    "start_time": "2024-04-11T13:58:12.894Z"
   },
   {
    "duration": 327,
    "start_time": "2024-04-11T13:58:13.441Z"
   },
   {
    "duration": 1100,
    "start_time": "2024-04-11T17:52:46.499Z"
   },
   {
    "duration": 2,
    "start_time": "2024-04-11T17:52:47.601Z"
   },
   {
    "duration": 7,
    "start_time": "2024-04-11T17:52:47.604Z"
   },
   {
    "duration": 139,
    "start_time": "2024-04-11T17:52:47.612Z"
   },
   {
    "duration": 20,
    "start_time": "2024-04-11T17:52:47.753Z"
   },
   {
    "duration": 16,
    "start_time": "2024-04-11T17:52:47.775Z"
   },
   {
    "duration": 13,
    "start_time": "2024-04-11T17:52:47.792Z"
   },
   {
    "duration": 14,
    "start_time": "2024-04-11T17:52:47.806Z"
   },
   {
    "duration": 16,
    "start_time": "2024-04-11T17:52:47.822Z"
   },
   {
    "duration": 31,
    "start_time": "2024-04-11T17:52:47.839Z"
   },
   {
    "duration": 8,
    "start_time": "2024-04-11T17:52:47.871Z"
   },
   {
    "duration": 4,
    "start_time": "2024-04-11T17:52:47.880Z"
   },
   {
    "duration": 18,
    "start_time": "2024-04-11T17:52:47.886Z"
   },
   {
    "duration": 10,
    "start_time": "2024-04-11T17:52:47.908Z"
   },
   {
    "duration": 5,
    "start_time": "2024-04-11T17:52:47.921Z"
   },
   {
    "duration": 8,
    "start_time": "2024-04-11T17:52:47.928Z"
   },
   {
    "duration": 202,
    "start_time": "2024-04-11T17:52:47.938Z"
   },
   {
    "duration": 10,
    "start_time": "2024-04-11T17:52:48.141Z"
   },
   {
    "duration": 83,
    "start_time": "2024-04-11T17:52:48.153Z"
   },
   {
    "duration": 223,
    "start_time": "2024-04-11T17:52:48.238Z"
   },
   {
    "duration": 10,
    "start_time": "2024-04-11T17:52:48.462Z"
   },
   {
    "duration": 468,
    "start_time": "2024-04-11T17:52:48.473Z"
   },
   {
    "duration": 478,
    "start_time": "2024-04-11T17:52:48.945Z"
   },
   {
    "duration": 188,
    "start_time": "2024-04-11T17:52:49.424Z"
   },
   {
    "duration": 301,
    "start_time": "2024-04-11T17:52:49.613Z"
   },
   {
    "duration": 24,
    "start_time": "2024-04-11T17:52:49.916Z"
   },
   {
    "duration": 9,
    "start_time": "2024-04-11T17:52:49.942Z"
   },
   {
    "duration": 4,
    "start_time": "2024-04-11T17:52:49.965Z"
   },
   {
    "duration": 968,
    "start_time": "2024-04-11T17:52:49.971Z"
   },
   {
    "duration": 3,
    "start_time": "2024-04-11T17:52:50.941Z"
   },
   {
    "duration": 62,
    "start_time": "2024-04-11T17:52:50.945Z"
   },
   {
    "duration": 3,
    "start_time": "2024-04-11T17:52:51.008Z"
   },
   {
    "duration": 14,
    "start_time": "2024-04-11T17:52:51.013Z"
   },
   {
    "duration": 9,
    "start_time": "2024-04-11T17:52:51.028Z"
   },
   {
    "duration": 11,
    "start_time": "2024-04-11T17:52:51.038Z"
   },
   {
    "duration": 27,
    "start_time": "2024-04-11T17:52:51.051Z"
   },
   {
    "duration": 509,
    "start_time": "2024-04-11T17:52:51.080Z"
   },
   {
    "duration": 345,
    "start_time": "2024-04-11T17:52:51.591Z"
   }
  ],
  "colab": {
   "provenance": []
  },
  "kernelspec": {
   "display_name": "Python 3 (ipykernel)",
   "language": "python",
   "name": "python3"
  },
  "language_info": {
   "codemirror_mode": {
    "name": "ipython",
    "version": 3
   },
   "file_extension": ".py",
   "mimetype": "text/x-python",
   "name": "python",
   "nbconvert_exporter": "python",
   "pygments_lexer": "ipython3",
   "version": "3.9.5"
  },
  "toc": {
   "base_numbering": 1,
   "nav_menu": {},
   "number_sections": true,
   "sideBar": true,
   "skip_h1_title": true,
   "title_cell": "Table of Contents",
   "title_sidebar": "Contents",
   "toc_cell": false,
   "toc_position": {},
   "toc_section_display": true,
   "toc_window_display": false
  }
 },
 "nbformat": 4,
 "nbformat_minor": 5
}
